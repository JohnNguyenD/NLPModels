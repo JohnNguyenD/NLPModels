{
 "cells": [
  {
   "cell_type": "code",
   "execution_count": 46,
   "id": "5c0ba3af-afb0-4a20-af55-5c8258b893ef",
   "metadata": {},
   "outputs": [
    {
     "name": "stdout",
     "output_type": "stream",
     "text": [
      "Note: you may need to restart the kernel to use updated packages.\n"
     ]
    }
   ],
   "source": [
    "pip install -qq transformers"
   ]
  },
  {
   "cell_type": "code",
   "execution_count": 47,
   "id": "b49ab206-6c23-4c48-945f-6a138c36e1e9",
   "metadata": {},
   "outputs": [],
   "source": [
    "!pip install -q -U watermark"
   ]
  },
  {
   "cell_type": "code",
   "execution_count": 48,
   "id": "d6c9ed2d-8f7e-440c-af6c-bafc3fa55a91",
   "metadata": {},
   "outputs": [],
   "source": [
    "!pip install -q -U seaborn"
   ]
  },
  {
   "cell_type": "code",
   "execution_count": 49,
   "id": "6c88d076-c72c-4223-95d7-91fab950b6e5",
   "metadata": {},
   "outputs": [],
   "source": [
    "!pip install --quiet datasets\n",
    "!pip install --quiet emoji\n",
    "!pip install --quiet kaggle\n",
    "!pip install --quiet torchinfo\n",
    "!pip install --quiet imbalanced-learn\n",
    "!pip install --quiet gdown"
   ]
  },
  {
   "cell_type": "code",
   "execution_count": 50,
   "id": "870bd542-996c-4d65-a52e-be560f665d5a",
   "metadata": {},
   "outputs": [],
   "source": [
    "!pip install --quiet nltk"
   ]
  },
  {
   "cell_type": "code",
   "execution_count": null,
   "id": "5c598740-c502-4f92-9ba0-6d09ba4fc38f",
   "metadata": {},
   "outputs": [],
   "source": []
  },
  {
   "cell_type": "code",
   "execution_count": 51,
   "id": "c1d43342-5868-4590-8868-5fe254831d37",
   "metadata": {},
   "outputs": [],
   "source": [
    "!pip install -q -U pandas\n",
    "!pip install -q -U torch"
   ]
  },
  {
   "cell_type": "code",
   "execution_count": null,
   "id": "8232375c-87fb-430f-9aa9-2f34f69525f3",
   "metadata": {},
   "outputs": [],
   "source": []
  },
  {
   "cell_type": "code",
   "execution_count": 1,
   "id": "1027e7f7-552b-4b41-bcc3-c180c44c7382",
   "metadata": {},
   "outputs": [
    {
     "name": "stderr",
     "output_type": "stream",
     "text": [
      "/opt/homebrew/Cellar/jupyterlab/3.4.8/libexec/lib/python3.10/site-packages/tqdm/auto.py:22: TqdmWarning: IProgress not found. Please update jupyter and ipywidgets. See https://ipywidgets.readthedocs.io/en/stable/user_install.html\n",
      "  from .autonotebook import tqdm as notebook_tqdm\n",
      "[nltk_data] Downloading package punkt to\n",
      "[nltk_data]     /Users/johnnguyen/nltk_data...\n",
      "[nltk_data]   Package punkt is already up-to-date!\n",
      "[nltk_data] Downloading package wordnet to\n",
      "[nltk_data]     /Users/johnnguyen/nltk_data...\n",
      "[nltk_data]   Package wordnet is already up-to-date!\n",
      "[nltk_data] Downloading package stopwords to\n",
      "[nltk_data]     /Users/johnnguyen/nltk_data...\n",
      "[nltk_data]   Package stopwords is already up-to-date!\n"
     ]
    }
   ],
   "source": [
    "import transformers\n",
    "from torch.utils import data\n",
    "import pandas as pd\n",
    "import seaborn as sns\n",
    "import matplotlib.pyplot as plt\n",
    "import numpy as np\n",
    "import torch\n",
    "\n",
    "# data processing\n",
    "import re, string\n",
    "import emoji\n",
    "import nltk\n",
    "\n",
    "# dataset\n",
    "from sklearn.model_selection import train_test_split\n",
    "import datasets\n",
    "from datasets import Dataset , Sequence , Value , Features , ClassLabel , DatasetDict\n",
    "\n",
    "# preprocessing\n",
    "import nltk\n",
    "nltk.download('punkt')\n",
    "nltk.download('wordnet')\n",
    "nltk.download('stopwords')\n",
    "\n",
    "from nltk.stem import WordNetLemmatizer\n",
    "from nltk import word_tokenize\n",
    "from nltk.corpus import stopwords\n",
    "from nltk import word_tokenize\n",
    "\n",
    "import re, string\n",
    "\n",
    "from tqdm import tqdm\n",
    "from collections import defaultdict\n",
    "\n",
    "RANDOM_SEED = 42\n",
    "np.random.seed(RANDOM_SEED)\n",
    "torch.manual_seed(RANDOM_SEED)\n",
    "\n",
    "device = torch.device(\"cuda\" if torch.cuda.is_available() else \"cpu\")"
   ]
  },
  {
   "cell_type": "code",
   "execution_count": 2,
   "id": "20ffee66-9206-4d5f-b9f9-67c36f537265",
   "metadata": {},
   "outputs": [],
   "source": [
    "models = [\"distilbert-base-uncased\", \"bert-base-uncased\", \"bert-base-cased\"]\n",
    "modelName = models[2] "
   ]
  },
  {
   "cell_type": "code",
   "execution_count": 8,
   "id": "5352d667-68a0-4bc1-a23a-e262a2366125",
   "metadata": {},
   "outputs": [
    {
     "ename": "KeyError",
     "evalue": "0",
     "output_type": "error",
     "traceback": [
      "\u001b[0;31m---------------------------------------------------------------------------\u001b[0m",
      "\u001b[0;31mKeyError\u001b[0m                                  Traceback (most recent call last)",
      "File \u001b[0;32m/opt/homebrew/Cellar/jupyterlab/3.4.8/libexec/lib/python3.10/site-packages/pandas/core/indexes/base.py:3803\u001b[0m, in \u001b[0;36mIndex.get_loc\u001b[0;34m(self, key, method, tolerance)\u001b[0m\n\u001b[1;32m   3802\u001b[0m \u001b[38;5;28;01mtry\u001b[39;00m:\n\u001b[0;32m-> 3803\u001b[0m     \u001b[38;5;28;01mreturn\u001b[39;00m \u001b[38;5;28;43mself\u001b[39;49m\u001b[38;5;241;43m.\u001b[39;49m\u001b[43m_engine\u001b[49m\u001b[38;5;241;43m.\u001b[39;49m\u001b[43mget_loc\u001b[49m\u001b[43m(\u001b[49m\u001b[43mcasted_key\u001b[49m\u001b[43m)\u001b[49m\n\u001b[1;32m   3804\u001b[0m \u001b[38;5;28;01mexcept\u001b[39;00m \u001b[38;5;167;01mKeyError\u001b[39;00m \u001b[38;5;28;01mas\u001b[39;00m err:\n",
      "File \u001b[0;32m/opt/homebrew/Cellar/jupyterlab/3.4.8/libexec/lib/python3.10/site-packages/pandas/_libs/index.pyx:138\u001b[0m, in \u001b[0;36mpandas._libs.index.IndexEngine.get_loc\u001b[0;34m()\u001b[0m\n",
      "File \u001b[0;32m/opt/homebrew/Cellar/jupyterlab/3.4.8/libexec/lib/python3.10/site-packages/pandas/_libs/index.pyx:165\u001b[0m, in \u001b[0;36mpandas._libs.index.IndexEngine.get_loc\u001b[0;34m()\u001b[0m\n",
      "File \u001b[0;32mpandas/_libs/hashtable_class_helper.pxi:5745\u001b[0m, in \u001b[0;36mpandas._libs.hashtable.PyObjectHashTable.get_item\u001b[0;34m()\u001b[0m\n",
      "File \u001b[0;32mpandas/_libs/hashtable_class_helper.pxi:5753\u001b[0m, in \u001b[0;36mpandas._libs.hashtable.PyObjectHashTable.get_item\u001b[0;34m()\u001b[0m\n",
      "\u001b[0;31mKeyError\u001b[0m: 0",
      "\nThe above exception was the direct cause of the following exception:\n",
      "\u001b[0;31mKeyError\u001b[0m                                  Traceback (most recent call last)",
      "Cell \u001b[0;32mIn[8], line 2\u001b[0m\n\u001b[1;32m      1\u001b[0m df_train \u001b[38;5;241m=\u001b[39m pd\u001b[38;5;241m.\u001b[39mread_csv(\u001b[38;5;124m\"\u001b[39m\u001b[38;5;124mCorona_NLP_train.csv\u001b[39m\u001b[38;5;124m\"\u001b[39m,encoding\u001b[38;5;241m=\u001b[39m\u001b[38;5;124m'\u001b[39m\u001b[38;5;124mlatin-1\u001b[39m\u001b[38;5;124m'\u001b[39m)\n\u001b[0;32m----> 2\u001b[0m \u001b[38;5;28mprint\u001b[39m(\u001b[43mdf_train\u001b[49m\u001b[43m[\u001b[49m\u001b[38;5;241;43m0\u001b[39;49m\u001b[43m]\u001b[49m)\n\u001b[1;32m      3\u001b[0m \u001b[38;5;28mprint\u001b[39m(df_train\u001b[38;5;241m.\u001b[39mcolumns)\n",
      "File \u001b[0;32m/opt/homebrew/Cellar/jupyterlab/3.4.8/libexec/lib/python3.10/site-packages/pandas/core/frame.py:3804\u001b[0m, in \u001b[0;36mDataFrame.__getitem__\u001b[0;34m(self, key)\u001b[0m\n\u001b[1;32m   3802\u001b[0m \u001b[38;5;28;01mif\u001b[39;00m \u001b[38;5;28mself\u001b[39m\u001b[38;5;241m.\u001b[39mcolumns\u001b[38;5;241m.\u001b[39mnlevels \u001b[38;5;241m>\u001b[39m \u001b[38;5;241m1\u001b[39m:\n\u001b[1;32m   3803\u001b[0m     \u001b[38;5;28;01mreturn\u001b[39;00m \u001b[38;5;28mself\u001b[39m\u001b[38;5;241m.\u001b[39m_getitem_multilevel(key)\n\u001b[0;32m-> 3804\u001b[0m indexer \u001b[38;5;241m=\u001b[39m \u001b[38;5;28;43mself\u001b[39;49m\u001b[38;5;241;43m.\u001b[39;49m\u001b[43mcolumns\u001b[49m\u001b[38;5;241;43m.\u001b[39;49m\u001b[43mget_loc\u001b[49m\u001b[43m(\u001b[49m\u001b[43mkey\u001b[49m\u001b[43m)\u001b[49m\n\u001b[1;32m   3805\u001b[0m \u001b[38;5;28;01mif\u001b[39;00m is_integer(indexer):\n\u001b[1;32m   3806\u001b[0m     indexer \u001b[38;5;241m=\u001b[39m [indexer]\n",
      "File \u001b[0;32m/opt/homebrew/Cellar/jupyterlab/3.4.8/libexec/lib/python3.10/site-packages/pandas/core/indexes/base.py:3805\u001b[0m, in \u001b[0;36mIndex.get_loc\u001b[0;34m(self, key, method, tolerance)\u001b[0m\n\u001b[1;32m   3803\u001b[0m     \u001b[38;5;28;01mreturn\u001b[39;00m \u001b[38;5;28mself\u001b[39m\u001b[38;5;241m.\u001b[39m_engine\u001b[38;5;241m.\u001b[39mget_loc(casted_key)\n\u001b[1;32m   3804\u001b[0m \u001b[38;5;28;01mexcept\u001b[39;00m \u001b[38;5;167;01mKeyError\u001b[39;00m \u001b[38;5;28;01mas\u001b[39;00m err:\n\u001b[0;32m-> 3805\u001b[0m     \u001b[38;5;28;01mraise\u001b[39;00m \u001b[38;5;167;01mKeyError\u001b[39;00m(key) \u001b[38;5;28;01mfrom\u001b[39;00m \u001b[38;5;21;01merr\u001b[39;00m\n\u001b[1;32m   3806\u001b[0m \u001b[38;5;28;01mexcept\u001b[39;00m \u001b[38;5;167;01mTypeError\u001b[39;00m:\n\u001b[1;32m   3807\u001b[0m     \u001b[38;5;66;03m# If we have a listlike key, _check_indexing_error will raise\u001b[39;00m\n\u001b[1;32m   3808\u001b[0m     \u001b[38;5;66;03m#  InvalidIndexError. Otherwise we fall through and re-raise\u001b[39;00m\n\u001b[1;32m   3809\u001b[0m     \u001b[38;5;66;03m#  the TypeError.\u001b[39;00m\n\u001b[1;32m   3810\u001b[0m     \u001b[38;5;28mself\u001b[39m\u001b[38;5;241m.\u001b[39m_check_indexing_error(key)\n",
      "\u001b[0;31mKeyError\u001b[0m: 0"
     ]
    }
   ],
   "source": [
    "df_train = pd.read_csv(\"Corona_NLP_train.csv\",encoding='latin-1')\n",
    "print(df_train)\n",
    "print(df_train.columns)"
   ]
  },
  {
   "cell_type": "code",
   "execution_count": 55,
   "id": "5b173dc4-353a-4faa-a750-7283246c6200",
   "metadata": {},
   "outputs": [
    {
     "name": "stdout",
     "output_type": "stream",
     "text": [
      "<class 'pandas.core.frame.DataFrame'>\n",
      "RangeIndex: 41157 entries, 0 to 41156\n",
      "Data columns (total 2 columns):\n",
      " #   Column         Non-Null Count  Dtype \n",
      "---  ------         --------------  ----- \n",
      " 0   OriginalTweet  41157 non-null  object\n",
      " 1   Sentiment      41157 non-null  object\n",
      "dtypes: object(2)\n",
      "memory usage: 643.2+ KB\n"
     ]
    }
   ],
   "source": [
    "df_train = df_train[[\"OriginalTweet\", \"Sentiment\"]]\n",
    "df_train.info()"
   ]
  },
  {
   "cell_type": "code",
   "execution_count": 56,
   "id": "cf916ad1-a249-46b5-974f-9a4c2cdf4376",
   "metadata": {},
   "outputs": [
    {
     "data": {
      "text/html": [
       "<div>\n",
       "<style scoped>\n",
       "    .dataframe tbody tr th:only-of-type {\n",
       "        vertical-align: middle;\n",
       "    }\n",
       "\n",
       "    .dataframe tbody tr th {\n",
       "        vertical-align: top;\n",
       "    }\n",
       "\n",
       "    .dataframe thead th {\n",
       "        text-align: right;\n",
       "    }\n",
       "</style>\n",
       "<table border=\"1\" class=\"dataframe\">\n",
       "  <thead>\n",
       "    <tr style=\"text-align: right;\">\n",
       "      <th></th>\n",
       "      <th>Reviews</th>\n",
       "      <th>Sentiment</th>\n",
       "    </tr>\n",
       "  </thead>\n",
       "  <tbody>\n",
       "    <tr>\n",
       "      <th>0</th>\n",
       "      <td>@MeNyrbie @Phil_Gahan @Chrisitv https://t.co/i...</td>\n",
       "      <td>1</td>\n",
       "    </tr>\n",
       "    <tr>\n",
       "      <th>1</th>\n",
       "      <td>advice Talk to your neighbours family to excha...</td>\n",
       "      <td>2</td>\n",
       "    </tr>\n",
       "    <tr>\n",
       "      <th>2</th>\n",
       "      <td>Coronavirus Australia: Woolworths to give elde...</td>\n",
       "      <td>2</td>\n",
       "    </tr>\n",
       "    <tr>\n",
       "      <th>3</th>\n",
       "      <td>My food stock is not the only one which is emp...</td>\n",
       "      <td>2</td>\n",
       "    </tr>\n",
       "    <tr>\n",
       "      <th>4</th>\n",
       "      <td>Me, ready to go at supermarket during the #COV...</td>\n",
       "      <td>0</td>\n",
       "    </tr>\n",
       "  </tbody>\n",
       "</table>\n",
       "</div>"
      ],
      "text/plain": [
       "                                             Reviews  Sentiment\n",
       "0  @MeNyrbie @Phil_Gahan @Chrisitv https://t.co/i...          1\n",
       "1  advice Talk to your neighbours family to excha...          2\n",
       "2  Coronavirus Australia: Woolworths to give elde...          2\n",
       "3  My food stock is not the only one which is emp...          2\n",
       "4  Me, ready to go at supermarket during the #COV...          0"
      ]
     },
     "execution_count": 56,
     "metadata": {},
     "output_type": "execute_result"
    }
   ],
   "source": [
    "df_train.drop_duplicates(subset='OriginalTweet',inplace=True)\n",
    "df_train = df_train.rename({'OriginalTweet': 'Reviews'}, axis='columns')\n",
    "df_train['Sentiment']=df_train['Sentiment'].replace({'Neutral':1, 'Positive':2,'Extremely Positive':2, 'Extremely Negative':0,'Negative':0})\n",
    "df_train['Sentiment']=df_train['Sentiment'].astype(int)\n",
    "\n",
    "df_train = df_train.reset_index(drop=True)\n",
    "df_train.head()"
   ]
  },
  {
   "cell_type": "code",
   "execution_count": 57,
   "id": "c63f13b3-ac16-44dd-96e8-0d412fcb71cf",
   "metadata": {},
   "outputs": [
    {
     "data": {
      "text/plain": [
       "Reviews      0\n",
       "Sentiment    0\n",
       "dtype: int64"
      ]
     },
     "execution_count": 57,
     "metadata": {},
     "output_type": "execute_result"
    }
   ],
   "source": [
    "df_train.isnull().sum()"
   ]
  },
  {
   "cell_type": "code",
   "execution_count": 58,
   "id": "63029fad-8ea2-4c4a-bee8-aab64d6513f6",
   "metadata": {},
   "outputs": [
    {
     "data": {
      "text/plain": [
       "2    18046\n",
       "0    15398\n",
       "1     7713\n",
       "Name: Sentiment, dtype: int64"
      ]
     },
     "execution_count": 58,
     "metadata": {},
     "output_type": "execute_result"
    }
   ],
   "source": [
    "df_train[\"Sentiment\"].value_counts()"
   ]
  },
  {
   "cell_type": "code",
   "execution_count": 59,
   "id": "e0cd2a1d-476e-480d-8daf-a5fb2fbb4143",
   "metadata": {},
   "outputs": [
    {
     "name": "stdout",
     "output_type": "stream",
     "text": [
      "1 64\n"
     ]
    }
   ],
   "source": [
    "# word tokenizer\n",
    "df_train['Reviews_len_by_words'] = df_train['Reviews'].apply(lambda t: len(t.split()))\n",
    "min_len_word, max_len_word = df_train['Reviews_len_by_words'].min(), df_train['Reviews_len_by_words'].max()\n",
    "print(min_len_word, max_len_word)"
   ]
  },
  {
   "cell_type": "code",
   "execution_count": 60,
   "id": "e8968a32-f34b-4a87-a973-de61c7f9748f",
   "metadata": {},
   "outputs": [
    {
     "data": {
      "text/plain": [
       "<AxesSubplot: xlabel='Reviews_len_by_words', ylabel='Count'>"
      ]
     },
     "execution_count": 60,
     "metadata": {},
     "output_type": "execute_result"
    },
    {
     "data": {
      "image/png": "[encoded data removed]",
      "text/plain": [
       "<Figure size 640x480 with 1 Axes>"
      ]
     },
     "metadata": {},
     "output_type": "display_data"
    }
   ],
   "source": [
    "sns.histplot(df_train['Reviews_len_by_words'])"
   ]
  },
  {
   "cell_type": "code",
   "execution_count": 61,
   "id": "23da9eb7-2dbb-453d-b2c6-5dcfb3e9eba7",
   "metadata": {},
   "outputs": [
    {
     "data": {
      "text/html": [
       "<div>\n",
       "<style scoped>\n",
       "    .dataframe tbody tr th:only-of-type {\n",
       "        vertical-align: middle;\n",
       "    }\n",
       "\n",
       "    .dataframe tbody tr th {\n",
       "        vertical-align: top;\n",
       "    }\n",
       "\n",
       "    .dataframe thead th {\n",
       "        text-align: right;\n",
       "    }\n",
       "</style>\n",
       "<table border=\"1\" class=\"dataframe\">\n",
       "  <thead>\n",
       "    <tr style=\"text-align: right;\">\n",
       "      <th></th>\n",
       "      <th>Sentiment</th>\n",
       "      <th>Reviews_len_by_words</th>\n",
       "    </tr>\n",
       "  </thead>\n",
       "  <tbody>\n",
       "    <tr>\n",
       "      <th>count</th>\n",
       "      <td>41157.000000</td>\n",
       "      <td>41157.000000</td>\n",
       "    </tr>\n",
       "    <tr>\n",
       "      <th>mean</th>\n",
       "      <td>1.064339</td>\n",
       "      <td>30.500304</td>\n",
       "    </tr>\n",
       "    <tr>\n",
       "      <th>std</th>\n",
       "      <td>0.899153</td>\n",
       "      <td>11.591172</td>\n",
       "    </tr>\n",
       "    <tr>\n",
       "      <th>min</th>\n",
       "      <td>0.000000</td>\n",
       "      <td>1.000000</td>\n",
       "    </tr>\n",
       "    <tr>\n",
       "      <th>25%</th>\n",
       "      <td>0.000000</td>\n",
       "      <td>21.000000</td>\n",
       "    </tr>\n",
       "    <tr>\n",
       "      <th>50%</th>\n",
       "      <td>1.000000</td>\n",
       "      <td>32.000000</td>\n",
       "    </tr>\n",
       "    <tr>\n",
       "      <th>75%</th>\n",
       "      <td>2.000000</td>\n",
       "      <td>40.000000</td>\n",
       "    </tr>\n",
       "    <tr>\n",
       "      <th>max</th>\n",
       "      <td>2.000000</td>\n",
       "      <td>64.000000</td>\n",
       "    </tr>\n",
       "  </tbody>\n",
       "</table>\n",
       "</div>"
      ],
      "text/plain": [
       "          Sentiment  Reviews_len_by_words\n",
       "count  41157.000000          41157.000000\n",
       "mean       1.064339             30.500304\n",
       "std        0.899153             11.591172\n",
       "min        0.000000              1.000000\n",
       "25%        0.000000             21.000000\n",
       "50%        1.000000             32.000000\n",
       "75%        2.000000             40.000000\n",
       "max        2.000000             64.000000"
      ]
     },
     "execution_count": 61,
     "metadata": {},
     "output_type": "execute_result"
    }
   ],
   "source": [
    "df_train.describe()"
   ]
  },
  {
   "cell_type": "code",
   "execution_count": 62,
   "id": "590fb5dd-fd7d-4415-9f94-8e5478f84fee",
   "metadata": {},
   "outputs": [
    {
     "data": {
      "text/plain": [
       "[Text(0, 0, 'Negative'), Text(1, 0, 'Neutral'), Text(2, 0, 'Positive')]"
      ]
     },
     "execution_count": 62,
     "metadata": {},
     "output_type": "execute_result"
    },
    {
     "data": {
      "image/png": "[encoded data removed]",
      "text/plain": [
       "<Figure size 640x480 with 1 Axes>"
      ]
     },
     "metadata": {},
     "output_type": "display_data"
    }
   ],
   "source": [
    "class_names = ['Negative', 'Neutral', 'Positive']\n",
    "ax = sns.countplot(x='Sentiment', data=df_train)\n",
    "ax.set_xticklabels(class_names)"
   ]
  },
  {
   "cell_type": "code",
   "execution_count": 63,
   "id": "3984ce20-a33d-4144-be86-e4a5649ad6db",
   "metadata": {},
   "outputs": [
    {
     "data": {
      "text/html": [
       "<div>\n",
       "<style scoped>\n",
       "    .dataframe tbody tr th:only-of-type {\n",
       "        vertical-align: middle;\n",
       "    }\n",
       "\n",
       "    .dataframe tbody tr th {\n",
       "        vertical-align: top;\n",
       "    }\n",
       "\n",
       "    .dataframe thead th {\n",
       "        text-align: right;\n",
       "    }\n",
       "</style>\n",
       "<table border=\"1\" class=\"dataframe\">\n",
       "  <thead>\n",
       "    <tr style=\"text-align: right;\">\n",
       "      <th></th>\n",
       "      <th>Reviews</th>\n",
       "      <th>Sentiment</th>\n",
       "    </tr>\n",
       "  </thead>\n",
       "  <tbody>\n",
       "    <tr>\n",
       "      <th>0</th>\n",
       "      <td>TRENDING: New Yorkers encounter empty supermar...</td>\n",
       "      <td>0</td>\n",
       "    </tr>\n",
       "    <tr>\n",
       "      <th>1</th>\n",
       "      <td>When I couldn't find hand sanitizer at Fred Me...</td>\n",
       "      <td>2</td>\n",
       "    </tr>\n",
       "    <tr>\n",
       "      <th>2</th>\n",
       "      <td>Find out how you can protect yourself and love...</td>\n",
       "      <td>2</td>\n",
       "    </tr>\n",
       "    <tr>\n",
       "      <th>3</th>\n",
       "      <td>#Panic buying hits #NewYork City as anxious sh...</td>\n",
       "      <td>0</td>\n",
       "    </tr>\n",
       "    <tr>\n",
       "      <th>4</th>\n",
       "      <td>#toiletpaper #dunnypaper #coronavirus #coronav...</td>\n",
       "      <td>1</td>\n",
       "    </tr>\n",
       "  </tbody>\n",
       "</table>\n",
       "</div>"
      ],
      "text/plain": [
       "                                             Reviews  Sentiment\n",
       "0  TRENDING: New Yorkers encounter empty supermar...          0\n",
       "1  When I couldn't find hand sanitizer at Fred Me...          2\n",
       "2  Find out how you can protect yourself and love...          2\n",
       "3  #Panic buying hits #NewYork City as anxious sh...          0\n",
       "4  #toiletpaper #dunnypaper #coronavirus #coronav...          1"
      ]
     },
     "execution_count": 63,
     "metadata": {},
     "output_type": "execute_result"
    }
   ],
   "source": [
    "df_test = pd.read_csv(\"Corona_NLP_test.csv\",encoding='latin')\n",
    "df_test = df_test.drop(labels=['UserName', 'ScreenName', 'Location', 'TweetAt'], axis=1)\n",
    "df_test.drop_duplicates(subset='OriginalTweet',inplace=True)\n",
    "\n",
    "df_test = df_test.rename({'OriginalTweet': 'Reviews'}, axis=\"columns\")\n",
    "\n",
    "df_test['Sentiment']=df_test['Sentiment'].replace({'Neutral':1, 'Positive':2,'Extremely Positive':2, 'Extremely Negative':0,'Negative':0})\n",
    "df_test['Sentiment']=df_test['Sentiment'].astype(int)\n",
    "df_test = df_test.reset_index(drop=True)\n",
    "\n",
    "df_test.head()"
   ]
  },
  {
   "cell_type": "code",
   "execution_count": 64,
   "id": "a370680c-2c2e-4c59-9042-6bdf5727e809",
   "metadata": {},
   "outputs": [
    {
     "name": "stdout",
     "output_type": "stream",
     "text": [
      "(41157, 3) (3798, 2)\n",
      "(37452, 3) (3705, 3) (3798, 2)\n"
     ]
    }
   ],
   "source": [
    "print(df_train.shape , df_test.shape)\n",
    "df_train, df_val = train_test_split(df_train, test_size=0.09, random_state=RANDOM_SEED, stratify=df_train['Sentiment'])\n",
    "print(df_train.shape , df_val.shape, df_test.shape)"
   ]
  },
  {
   "cell_type": "code",
   "execution_count": 65,
   "id": "93f68f6a-f85f-4293-b4ac-6ac7614521bb",
   "metadata": {},
   "outputs": [],
   "source": [
    "def createDataset(df, textCol, labelCol):\n",
    "  dataset_dict = {\n",
    "    'text' : df[textCol],\n",
    "    'labels' : df[labelCol],\n",
    "  }\n",
    "  sent_tags = ClassLabel(num_classes=3 , names=[ 'Negative','Neutral','Positive'])\n",
    "\n",
    "  return Dataset.from_dict(\n",
    "    mapping = dataset_dict,\n",
    "    features = Features({'text' : Value(dtype='string') , 'labels' :sent_tags})\n",
    "  )"
   ]
  },
  {
   "cell_type": "code",
   "execution_count": 66,
   "id": "ed87032a-8343-478b-b83b-9f498fe15d9d",
   "metadata": {},
   "outputs": [
    {
     "data": {
      "text/plain": [
       "DatasetDict({\n",
       "    train: Dataset({\n",
       "        features: ['text', 'labels'],\n",
       "        num_rows: 37452\n",
       "    })\n",
       "    val: Dataset({\n",
       "        features: ['text', 'labels'],\n",
       "        num_rows: 3705\n",
       "    })\n",
       "    test: Dataset({\n",
       "        features: ['text', 'labels'],\n",
       "        num_rows: 3798\n",
       "    })\n",
       "})"
      ]
     },
     "execution_count": 66,
     "metadata": {},
     "output_type": "execute_result"
    }
   ],
   "source": [
    "dataset_train = createDataset(df_train,\"Reviews\",\"Sentiment\")\n",
    "dataset_val = createDataset(df_val,\"Reviews\",\"Sentiment\")\n",
    "dataset_test = createDataset(df_test,\"Reviews\",\"Sentiment\")\n",
    "\n",
    "dataset_sentAnalysis = DatasetDict()\n",
    "dataset_sentAnalysis[\"train\"] = dataset_train\n",
    "dataset_sentAnalysis[\"val\"] = dataset_val\n",
    "dataset_sentAnalysis[\"test\"] = dataset_test\n",
    "\n",
    "dataset_sentAnalysis"
   ]
  },
  {
   "cell_type": "code",
   "execution_count": 67,
   "id": "289454e7-b90e-4a65-8ce0-013d2cbb66b3",
   "metadata": {},
   "outputs": [],
   "source": [
    "#Data Preprocessing"
   ]
  },
  {
   "cell_type": "code",
   "execution_count": 68,
   "id": "2133bcbe-85c5-4219-b116-bb6eec319f49",
   "metadata": {},
   "outputs": [],
   "source": [
    "def convert_to_lower(text):\n",
    "    return text.lower()\n",
    "\n",
    "def remove_emojis(text):\n",
    "    text = re.sub(r\"(?:\\@|https?\\://)\\S+\", \"\", text) #remove links and mentions\n",
    "    text = re.sub(r\"<.*?>\",\"\",text)\n",
    "\n",
    "    wierd_pattern = re.compile(\"[\"\n",
    "        u\"\\U0001F600-\\U0001F64F\"  # emoticons\n",
    "        u\"\\U0001F300-\\U0001F5FF\"  # symbols & pictographs\n",
    "        u\"\\U0001F680-\\U0001F6FF\"  # transport & map symbols\n",
    "        u\"\\U0001F1E0-\\U0001F1FF\"  # flags (iOS)\n",
    "        u\"\\U00002702-\\U000027B0\"\n",
    "        u\"\\U000024C2-\\U0001F251\"\n",
    "        u\"\\U0001f926-\\U0001f937\"\n",
    "        u'\\U00010000-\\U0010ffff'\n",
    "        u\"\\u200d\"\n",
    "        u\"\\u2640-\\u2642\"\n",
    "        u\"\\u2600-\\u2B55\"\n",
    "        u\"\\u23cf\"\n",
    "        u\"\\u23e9\"\n",
    "        u\"\\u231a\"\n",
    "        u\"\\u3030\"\n",
    "        u\"\\ufe0f\"\n",
    "        u\"\\u2069\"\n",
    "        u\"\\u2066\"\n",
    "        # u\"\\u200c\"\n",
    "        u\"\\u2068\"\n",
    "        u\"\\u2067\"\n",
    "        \"]+\", flags=re.UNICODE)\n",
    "    \n",
    "    return wierd_pattern.sub(r'', text)\n",
    "\n",
    "def remove_numbers(text):\n",
    "    number_pattern = r'\\d+'\n",
    "    without_number = re.sub(pattern=number_pattern, repl=\" \", string=text)\n",
    "    return without_number\n",
    "\n",
    "def lemmatizing(text):\n",
    "    lemmatizer = WordNetLemmatizer()\n",
    "    tokens = word_tokenize(text)\n",
    "    for i in range(len(tokens)):\n",
    "        lemma_word = lemmatizer.lemmatize(tokens[i])\n",
    "        tokens[i] = lemma_word\n",
    "    return \" \".join(tokens)\n",
    "\n",
    "def remove_punctuation(text):\n",
    "    return text.translate(str.maketrans('', '', string.punctuation))\n",
    "\n",
    "def remove_stopwords(text):\n",
    "    removed = []\n",
    "    stop_words = list(stopwords.words(\"english\"))\n",
    "    tokens = word_tokenize(text)\n",
    "    for i in range(len(tokens)):\n",
    "        if tokens[i] not in stop_words:\n",
    "            removed.append(tokens[i])\n",
    "    return \" \".join(removed)\n",
    "\n",
    "def remove_extra_white_spaces(text):\n",
    "    single_char_pattern = r'\\s+[a-zA-Z]\\s+'\n",
    "    without_sc = re.sub(pattern=single_char_pattern, repl=\" \", string=text)\n",
    "    return without_sc\n",
    "\n",
    "def preprocessText(text):\n",
    "  return remove_extra_white_spaces(remove_stopwords(remove_punctuation(remove_numbers(remove_emojis(convert_to_lower(text))))))\n",
    "\n",
    "def preprocessBatch(batch):\n",
    "  new_list = []\n",
    "  for i in batch[\"text\"]:\n",
    "    new_list.append(remove_extra_white_spaces(remove_stopwords(remove_punctuation(remove_numbers(remove_emojis(convert_to_lower(i)))))))\n",
    "  batch[\"text\"] = new_list\n",
    "  return batch"
   ]
  },
  {
   "cell_type": "code",
   "execution_count": 69,
   "id": "547aed7e-f7f1-43ac-9e4b-c0febf939b67",
   "metadata": {},
   "outputs": [
    {
     "name": "stderr",
     "output_type": "stream",
     "text": [
      "100%|████████████████████████████████████████████████████████████████████████████████████████████████████| 1171/1171 [00:06<00:00, 175.66ba/s]\n",
      "100%|██████████████████████████████████████████████████████████████████████████████████████████████████████| 116/116 [00:00<00:00, 173.98ba/s]\n",
      "100%|██████████████████████████████████████████████████████████████████████████████████████████████████████| 119/119 [00:00<00:00, 169.76ba/s]\n"
     ]
    }
   ],
   "source": [
    "dataset_sentAnalysis_preprocessed = dataset_sentAnalysis.map(preprocessBatch, batched=True, batch_size=32)"
   ]
  },
  {
   "cell_type": "code",
   "execution_count": 70,
   "id": "9d424137-eb45-4725-b5cf-8431daa9639f",
   "metadata": {},
   "outputs": [
    {
     "data": {
      "text/plain": [
       "{'text': 'Doing a little online #coronavirus #shopping here in #China in #coronavirus quarantine--gonna put Anubis in this... https://t.co/AVNKyxUPfO',\n",
       " 'labels': 1}"
      ]
     },
     "execution_count": 70,
     "metadata": {},
     "output_type": "execute_result"
    }
   ],
   "source": [
    "dataset_sentAnalysis[\"train\"][10]"
   ]
  },
  {
   "cell_type": "code",
   "execution_count": 71,
   "id": "a4983ff0-4a60-418a-b4be-18b8a957ab52",
   "metadata": {},
   "outputs": [
    {
     "data": {
      "text/plain": [
       "{'text': 'little online coronavirus shopping china coronavirus quarantinegonna put anubis',\n",
       " 'labels': 1}"
      ]
     },
     "execution_count": 71,
     "metadata": {},
     "output_type": "execute_result"
    }
   ],
   "source": [
    "dataset_sentAnalysis_preprocessed[\"train\"][10]"
   ]
  },
  {
   "cell_type": "code",
   "execution_count": 72,
   "id": "b455931e-ba21-4d77-aeef-98fe2e1475e5",
   "metadata": {},
   "outputs": [],
   "source": [
    "#Tokenizer"
   ]
  },
  {
   "cell_type": "code",
   "execution_count": 73,
   "id": "2e81b95a-34f5-426c-a829-95ee14ad290a",
   "metadata": {},
   "outputs": [],
   "source": [
    "from transformers import AutoTokenizer\n",
    "tokenizer = AutoTokenizer.from_pretrained(modelName)"
   ]
  },
  {
   "cell_type": "code",
   "execution_count": 74,
   "id": "94a5359b-0241-4ead-b8d3-178b23943c0a",
   "metadata": {},
   "outputs": [],
   "source": [
    "max_len = 128\n",
    "def tokenize(batch):\n",
    "    return tokenizer(batch[\"text\"], padding=True, truncation=True, max_length=max_len)"
   ]
  },
  {
   "cell_type": "code",
   "execution_count": 75,
   "id": "d45f4f3d-3a46-4d32-a3df-817c99aac9a9",
   "metadata": {},
   "outputs": [
    {
     "name": "stdout",
     "output_type": "stream",
     "text": [
      "19 ['What', 'is', 'going', 'on', '@', 'rest', '##ura', '##nt', '.', ':', '(', 'It', 'makes', 'Me', 'Feel', 'Up', '##set', '.', '[UNK]']\n",
      "19 [1327, 1110, 1280, 1113, 137, 1832, 4084, 2227, 119, 131, 113, 1135, 2228, 2508, 14425, 3725, 9388, 119, 100]\n",
      "{'input_ids': [101, 1327, 1110, 1280, 1113, 137, 1832, 4084, 2227, 119, 131, 113, 1135, 2228, 2508, 14425, 3725, 9388, 119, 100, 102], 'token_type_ids': [0, 0, 0, 0, 0, 0, 0, 0, 0, 0, 0, 0, 0, 0, 0, 0, 0, 0, 0, 0, 0], 'attention_mask': [1, 1, 1, 1, 1, 1, 1, 1, 1, 1, 1, 1, 1, 1, 1, 1, 1, 1, 1, 1, 1]}\n",
      "21\n",
      "['[CLS]', 'What', 'is', 'going', 'on', '@', 'rest', '##ura', '##nt', '.', ':', '(', 'It', 'makes', 'Me', 'Feel', 'Up', '##set', '.', '[UNK]', '[SEP]']\n",
      "[101, 1327, 1110, 1280, 1113, 137, 1832, 4084, 2227, 119, 131, 113, 1135, 2228, 2508, 14425, 3725, 9388, 119, 100, 102]\n"
     ]
    }
   ],
   "source": [
    "sample_text = \"What is  going on @resturant.:( It makes   Me Feel Upset.😞\"\n",
    "tokens = tokenizer.tokenize(sample_text)\n",
    "print(len(tokens), tokens)\n",
    "token_ids = tokenizer.convert_tokens_to_ids(tokens)\n",
    "print(len(token_ids), token_ids)\n",
    "\n",
    "token_dictionary = tokenizer(sample_text)\n",
    "print(token_dictionary)\n",
    "print(len(token_dictionary.input_ids)) # automatically added cls, sep\n",
    "\n",
    "tokens = tokenizer.convert_ids_to_tokens(token_dictionary['input_ids'])\n",
    "print(tokens)\n",
    "\n",
    "token_encode = tokenizer.encode(sample_text) #convert to tokens ids but with cls+sep\n",
    "print(token_encode)"
   ]
  },
  {
   "cell_type": "code",
   "execution_count": 76,
   "id": "c17342a8-99a2-483a-9f64-f0c4305956ac",
   "metadata": {},
   "outputs": [
    {
     "name": "stderr",
     "output_type": "stream",
     "text": [
      "/opt/homebrew/Cellar/jupyterlab/3.4.8/libexec/lib/python3.10/site-packages/transformers/tokenization_utils_base.py:2304: FutureWarning: The `pad_to_max_length` argument is deprecated and will be removed in a future version, use `padding=True` or `padding='longest'` to pad to the longest sequence in the batch, or use `padding='max_length'` to pad to a max length. In this case, you can give a specific length with `max_length` (e.g. `max_length=45`) or leave max_length to None to pad to the maximal input size of the model (e.g. 512 for Bert).\n",
      "  warnings.warn(\n"
     ]
    },
    {
     "data": {
      "text/plain": [
       "{'input_ids': tensor([[  101,  1327,  1110,  1280,  1113,   137,  1832,  4084,  2227,   119,\n",
       "           131,   113,  1135,  2228,  2508, 14425,  3725,  9388,   119,   100,\n",
       "           102,     0,     0,     0,     0,     0,     0,     0,     0,     0,\n",
       "             0,     0,     0,     0,     0,     0,     0,     0,     0,     0,\n",
       "             0,     0,     0,     0,     0,     0,     0,     0,     0,     0,\n",
       "             0,     0,     0,     0,     0,     0,     0,     0,     0,     0,\n",
       "             0,     0,     0,     0,     0,     0,     0,     0,     0,     0,\n",
       "             0,     0,     0,     0,     0,     0,     0,     0,     0,     0,\n",
       "             0,     0,     0,     0,     0,     0,     0,     0,     0,     0,\n",
       "             0,     0,     0,     0,     0,     0,     0,     0,     0,     0,\n",
       "             0,     0,     0,     0,     0,     0,     0,     0,     0,     0,\n",
       "             0,     0,     0,     0,     0,     0,     0,     0,     0,     0,\n",
       "             0,     0,     0,     0,     0,     0,     0,     0]]), 'attention_mask': tensor([[1, 1, 1, 1, 1, 1, 1, 1, 1, 1, 1, 1, 1, 1, 1, 1, 1, 1, 1, 1, 1, 0, 0, 0,\n",
       "         0, 0, 0, 0, 0, 0, 0, 0, 0, 0, 0, 0, 0, 0, 0, 0, 0, 0, 0, 0, 0, 0, 0, 0,\n",
       "         0, 0, 0, 0, 0, 0, 0, 0, 0, 0, 0, 0, 0, 0, 0, 0, 0, 0, 0, 0, 0, 0, 0, 0,\n",
       "         0, 0, 0, 0, 0, 0, 0, 0, 0, 0, 0, 0, 0, 0, 0, 0, 0, 0, 0, 0, 0, 0, 0, 0,\n",
       "         0, 0, 0, 0, 0, 0, 0, 0, 0, 0, 0, 0, 0, 0, 0, 0, 0, 0, 0, 0, 0, 0, 0, 0,\n",
       "         0, 0, 0, 0, 0, 0, 0, 0]])}"
      ]
     },
     "execution_count": 76,
     "metadata": {},
     "output_type": "execute_result"
    }
   ],
   "source": [
    "encoding = tokenizer.encode_plus(\n",
    "    sample_text,\n",
    "    max_length=max_len,\n",
    "    add_special_tokens=True,\n",
    "    pad_to_max_length=True,\n",
    "    return_attention_mask=True,\n",
    "    return_token_type_ids=False,\n",
    "    return_tensors=\"pt\",truncation=True\n",
    ")\n",
    "encoding"
   ]
  },
  {
   "cell_type": "code",
   "execution_count": 77,
   "id": "ae2864a8-e382-443b-b228-138097673ce9",
   "metadata": {},
   "outputs": [
    {
     "name": "stderr",
     "output_type": "stream",
     "text": [
      "100%|████████████████████████████████████████████████████████████████████████████████████████████████████| 1171/1171 [00:03<00:00, 373.39ba/s]\n",
      "100%|██████████████████████████████████████████████████████████████████████████████████████████████████████| 116/116 [00:00<00:00, 511.91ba/s]\n",
      "100%|██████████████████████████████████████████████████████████████████████████████████████████████████████| 119/119 [00:00<00:00, 435.96ba/s]\n"
     ]
    }
   ],
   "source": [
    "dataset_sentAnalysis_encoded = dataset_sentAnalysis_preprocessed.map(tokenize, batched=True, batch_size=32)"
   ]
  },
  {
   "cell_type": "code",
   "execution_count": 78,
   "id": "729e55bb-b361-45d5-94be-56a51b3de037",
   "metadata": {},
   "outputs": [
    {
     "data": {
      "text/plain": [
       "DatasetDict({\n",
       "    train: Dataset({\n",
       "        features: ['text', 'labels', 'input_ids', 'token_type_ids', 'attention_mask'],\n",
       "        num_rows: 37452\n",
       "    })\n",
       "    val: Dataset({\n",
       "        features: ['text', 'labels', 'input_ids', 'token_type_ids', 'attention_mask'],\n",
       "        num_rows: 3705\n",
       "    })\n",
       "    test: Dataset({\n",
       "        features: ['text', 'labels', 'input_ids', 'token_type_ids', 'attention_mask'],\n",
       "        num_rows: 3798\n",
       "    })\n",
       "})"
      ]
     },
     "execution_count": 78,
     "metadata": {},
     "output_type": "execute_result"
    }
   ],
   "source": [
    "dataset_sentAnalysis_encoded"
   ]
  },
  {
   "cell_type": "code",
   "execution_count": 79,
   "id": "010bb5de-428c-4007-97a9-1341af286d15",
   "metadata": {},
   "outputs": [],
   "source": [
    "# Add Classification head manually for Model"
   ]
  },
  {
   "cell_type": "code",
   "execution_count": 80,
   "id": "907118b1-e634-4cb3-8856-61652989f585",
   "metadata": {},
   "outputs": [],
   "source": [
    "from transformers import BertConfig\n",
    "from transformers.models.bert.modeling_bert import BertModel, BertPreTrainedModel\n",
    "from transformers.modeling_outputs import SequenceClassifierOutput\n",
    "import torch.nn as nn\n",
    "\n",
    "class BertForClassification(BertPreTrainedModel):\n",
    "\n",
    "    def __init__(self, config):\n",
    "        super().__init__(config)\n",
    "        self.num_labels = config.num_labels\n",
    "        self.config = config\n",
    "\n",
    "        # Load model body > return all og the HS\n",
    "        self.bert = BertModel(config)\n",
    "        # Set up token classification head\n",
    "        self.dropout = nn.Dropout(config.hidden_dropout_prob)\n",
    "        self.classifier = nn.Linear(config.hidden_size, config.num_labels)\n",
    "\n",
    "        # Initialize weights and apply final processing\n",
    "        self.post_init()\n",
    "\n",
    "\n",
    "    def forward(self, input_ids=None, attention_mask=None, token_type_ids=None, \n",
    "                labels=None, **kwargs):\n",
    "        # Use model body to get encoder representations\n",
    "        outputs = self.bert(input_ids, attention_mask=attention_mask,\n",
    "                               token_type_ids=token_type_ids, **kwargs)\n",
    "\n",
    "        # Apply classifier to encoder representation > [cls]\n",
    "        sequence_output = self.dropout(outputs[1])\n",
    "        logits = self.classifier(sequence_output)\n",
    "\n",
    "        # Calculate losses\n",
    "        loss = None\n",
    "        if labels is not None:\n",
    "            loss_fct = nn.CrossEntropyLoss()\n",
    "            loss = loss_fct(logits.view(-1, self.num_labels), labels.view(-1))\n",
    "        # Return model output object\n",
    "        return SequenceClassifierOutput(\n",
    "            loss=loss,\n",
    "            logits=logits,\n",
    "            hidden_states=outputs.hidden_states,\n",
    "            attentions=outputs.attentions,\n",
    "        )"
   ]
  },
  {
   "cell_type": "code",
   "execution_count": 81,
   "id": "936c274c-37b6-4137-91dc-1f357360b7d2",
   "metadata": {},
   "outputs": [],
   "source": [
    "from transformers import AutoConfig\n",
    "\n",
    "id2label = {\n",
    "    0: 'Extremely Negative',\n",
    "    1: 'Negative',\n",
    "    2: 'Neutral',\n",
    "    3: 'Positive',\n",
    "    4: 'Extremely Positive'\n",
    "}\n",
    "\n",
    "label2id = { v:k for (k,v) in id2label.items()}\n",
    "\n",
    "bert_config = AutoConfig.from_pretrained(modelName, \n",
    "                                         num_labels=5,\n",
    "                                         id2label=id2label, label2id=label2id)"
   ]
  },
  {
   "cell_type": "code",
   "execution_count": 82,
   "id": "02747798-e72a-4d98-8232-c93e4de3a594",
   "metadata": {},
   "outputs": [
    {
     "name": "stderr",
     "output_type": "stream",
     "text": [
      "Some weights of the model checkpoint at bert-base-cased were not used when initializing BertForClassification: ['cls.predictions.transform.LayerNorm.bias', 'cls.predictions.transform.dense.bias', 'cls.seq_relationship.bias', 'cls.predictions.decoder.weight', 'cls.predictions.bias', 'cls.predictions.transform.LayerNorm.weight', 'cls.predictions.transform.dense.weight', 'cls.seq_relationship.weight']\n",
      "- This IS expected if you are initializing BertForClassification from the checkpoint of a model trained on another task or with another architecture (e.g. initializing a BertForSequenceClassification model from a BertForPreTraining model).\n",
      "- This IS NOT expected if you are initializing BertForClassification from the checkpoint of a model that you expect to be exactly identical (initializing a BertForSequenceClassification model from a BertForSequenceClassification model).\n",
      "Some weights of BertForClassification were not initialized from the model checkpoint at bert-base-cased and are newly initialized: ['classifier.weight', 'classifier.bias']\n",
      "You should probably TRAIN this model on a down-stream task to be able to use it for predictions and inference.\n"
     ]
    }
   ],
   "source": [
    "bert_model = (BertForClassification\n",
    "              .from_pretrained(modelName, config=bert_config)\n",
    "              .to(device))"
   ]
  },
  {
   "cell_type": "code",
   "execution_count": 83,
   "id": "dde0372e-17a8-499f-b176-e2fbaf1c5d07",
   "metadata": {},
   "outputs": [],
   "source": [
    "#Training Arguments"
   ]
  },
  {
   "cell_type": "code",
   "execution_count": 84,
   "id": "3be177b8-c936-44ae-8fd1-a7c6fe121ae4",
   "metadata": {},
   "outputs": [],
   "source": [
    "from transformers import Trainer, TrainingArguments\n",
    "\n",
    "batch_size = 16\n",
    "logging_steps = len(dataset_sentAnalysis_encoded[\"train\"]) // batch_size\n",
    "model_name = f\"{modelName}-finetuned-sentimentAnalysis-bert\"\n",
    "training_args = TrainingArguments(output_dir=model_name,\n",
    "                                  num_train_epochs=4,\n",
    "                                  per_device_train_batch_size=batch_size,\n",
    "                                  per_device_eval_batch_size=batch_size,\n",
    "                                  weight_decay=0.01,\n",
    "                                  evaluation_strategy=\"epoch\", \n",
    "                                  save_steps=1e6,\n",
    "                                  disable_tqdm=False,\n",
    "                                  logging_steps=logging_steps,\n",
    "                                  push_to_hub=False, \n",
    "                                  log_level=\"error\",\n",
    "                                  run_name=\"bert-sent-analysis\")"
   ]
  },
  {
   "cell_type": "code",
   "execution_count": 85,
   "id": "6599f645-3f92-4f5b-9923-ad48966ac5bb",
   "metadata": {},
   "outputs": [],
   "source": [
    "from sklearn.metrics import accuracy_score, f1_score\n",
    "\n",
    "def compute_metrics(pred):\n",
    "    labels = pred.label_ids\n",
    "    preds = pred.predictions.argmax(-1)\n",
    "    f1 = f1_score(labels, preds, average=\"weighted\")\n",
    "    acc = accuracy_score(labels, preds)\n",
    "    return {\"accuracy\": acc, \"f1\": f1}"
   ]
  },
  {
   "cell_type": "code",
   "execution_count": null,
   "id": "6828a593",
   "metadata": {},
   "outputs": [],
   "source": []
  },
  {
   "cell_type": "code",
   "execution_count": 86,
   "id": "131ec233-e537-4342-985b-f3f21ef8cc8d",
   "metadata": {},
   "outputs": [
    {
     "data": {
      "text/html": [
       "\n",
       "    <div>\n",
       "      \n",
       "      <progress value='9364' max='9364' style='width:300px; height:20px; vertical-align: middle;'></progress>\n",
       "      [9364/9364 4:08:59, Epoch 4/4]\n",
       "    </div>\n",
       "    <table border=\"1\" class=\"dataframe\">\n",
       "  <thead>\n",
       " <tr style=\"text-align: left;\">\n",
       "      <th>Epoch</th>\n",
       "      <th>Training Loss</th>\n",
       "      <th>Validation Loss</th>\n",
       "      <th>Accuracy</th>\n",
       "      <th>F1</th>\n",
       "    </tr>\n",
       "  </thead>\n",
       "  <tbody>\n",
       "    <tr>\n",
       "      <td>1</td>\n",
       "      <td>0.527400</td>\n",
       "      <td>0.393123</td>\n",
       "      <td>0.863968</td>\n",
       "      <td>0.862913</td>\n",
       "    </tr>\n",
       "    <tr>\n",
       "      <td>2</td>\n",
       "      <td>0.340800</td>\n",
       "      <td>0.368672</td>\n",
       "      <td>0.882591</td>\n",
       "      <td>0.882152</td>\n",
       "    </tr>\n",
       "    <tr>\n",
       "      <td>3</td>\n",
       "      <td>0.255000</td>\n",
       "      <td>0.394971</td>\n",
       "      <td>0.886640</td>\n",
       "      <td>0.885978</td>\n",
       "    </tr>\n",
       "    <tr>\n",
       "      <td>4</td>\n",
       "      <td>0.194000</td>\n",
       "      <td>0.443209</td>\n",
       "      <td>0.884211</td>\n",
       "      <td>0.883875</td>\n",
       "    </tr>\n",
       "  </tbody>\n",
       "</table><p>"
      ],
      "text/plain": [
       "<IPython.core.display.HTML object>"
      ]
     },
     "metadata": {},
     "output_type": "display_data"
    },
    {
     "data": {
      "text/plain": [
       "TrainOutput(global_step=9364, training_loss=0.3291851248510981, metrics={'train_runtime': 14941.0398, 'train_samples_per_second': 10.027, 'train_steps_per_second': 0.627, 'total_flos': 5733876727406952.0, 'train_loss': 0.3291851248510981, 'epoch': 4.0})"
      ]
     },
     "execution_count": 86,
     "metadata": {},
     "output_type": "execute_result"
    }
   ],
   "source": [
    "from torch.optim import AdamW\n",
    "from transformers import get_scheduler\n",
    "\n",
    "optimizer = AdamW(bert_model.parameters(), lr=2e-5)\n",
    "\n",
    "num_epochs = 4\n",
    "num_training_steps = num_epochs * logging_steps\n",
    "lr_scheduler = get_scheduler(\n",
    "    name=\"linear\", optimizer=optimizer, num_warmup_steps=0, num_training_steps=num_training_steps\n",
    ")\n",
    "\n",
    "trainer_preprocessed_lr = Trainer(model=bert_model, args=training_args,\n",
    "                                  compute_metrics=compute_metrics,\n",
    "                                  train_dataset=dataset_sentAnalysis_encoded[\"train\"],\n",
    "                                  eval_dataset=dataset_sentAnalysis_encoded[\"val\"],\n",
    "                                  tokenizer=tokenizer,\n",
    "                                  optimizers=(optimizer,lr_scheduler))\n",
    "\n",
    "trainer_preprocessed_lr.train()"
   ]
  },
  {
   "cell_type": "code",
   "execution_count": 87,
   "id": "22ffecd1-0623-431b-954f-c2a5f8981cb4",
   "metadata": {},
   "outputs": [],
   "source": [
    "#Evaluation"
   ]
  },
  {
   "cell_type": "code",
   "execution_count": 88,
   "id": "750134e1-bb37-4085-b892-4c26d2c4ae2e",
   "metadata": {},
   "outputs": [
    {
     "data": {
      "text/html": [],
      "text/plain": [
       "<IPython.core.display.HTML object>"
      ]
     },
     "metadata": {},
     "output_type": "display_data"
    },
    {
     "data": {
      "text/html": [
       "<div>\n",
       "<style scoped>\n",
       "    .dataframe tbody tr th:only-of-type {\n",
       "        vertical-align: middle;\n",
       "    }\n",
       "\n",
       "    .dataframe tbody tr th {\n",
       "        vertical-align: top;\n",
       "    }\n",
       "\n",
       "    .dataframe thead th {\n",
       "        text-align: right;\n",
       "    }\n",
       "</style>\n",
       "<table border=\"1\" class=\"dataframe\">\n",
       "  <thead>\n",
       "    <tr style=\"text-align: right;\">\n",
       "      <th></th>\n",
       "      <th>0</th>\n",
       "      <th>1</th>\n",
       "      <th>2</th>\n",
       "      <th>3</th>\n",
       "      <th>4</th>\n",
       "      <th>5</th>\n",
       "    </tr>\n",
       "  </thead>\n",
       "  <tbody>\n",
       "    <tr>\n",
       "      <th>0</th>\n",
       "      <td>test_loss</td>\n",
       "      <td>test_accuracy</td>\n",
       "      <td>test_f1</td>\n",
       "      <td>test_runtime</td>\n",
       "      <td>test_samples_per_second</td>\n",
       "      <td>test_steps_per_second</td>\n",
       "    </tr>\n",
       "    <tr>\n",
       "      <th>1</th>\n",
       "      <td>0.542224</td>\n",
       "      <td>0.860453</td>\n",
       "      <td>0.860318</td>\n",
       "      <td>66.8999</td>\n",
       "      <td>56.771</td>\n",
       "      <td>3.558</td>\n",
       "    </tr>\n",
       "  </tbody>\n",
       "</table>\n",
       "</div>"
      ],
      "text/plain": [
       "           0              1         2             3                        4  \\\n",
       "0  test_loss  test_accuracy   test_f1  test_runtime  test_samples_per_second   \n",
       "1   0.542224       0.860453  0.860318       66.8999                   56.771   \n",
       "\n",
       "                       5  \n",
       "0  test_steps_per_second  \n",
       "1                  3.558  "
      ]
     },
     "execution_count": 88,
     "metadata": {},
     "output_type": "execute_result"
    }
   ],
   "source": [
    "model = bert_model\n",
    "model.eval()\n",
    "preds_output = trainer_preprocessed_lr.predict(dataset_sentAnalysis_encoded[\"test\"])\n",
    "pd.DataFrame(list(preds_output.metrics.items())).T"
   ]
  },
  {
   "cell_type": "code",
   "execution_count": 89,
   "id": "bc5983e1-8846-4e5a-bd0a-c2a148cb7660",
   "metadata": {},
   "outputs": [],
   "source": [
    "PATH = \"./bert-classification-classification-head\"\n",
    "torch.save(bert_model.state_dict(), PATH)"
   ]
  },
  {
   "cell_type": "code",
   "execution_count": 90,
   "id": "78b267a8-fc28-4d1c-ab25-fbc385a9f0aa",
   "metadata": {},
   "outputs": [],
   "source": [
    "import matplotlib.pyplot as plt\n",
    "from sklearn.metrics import ConfusionMatrixDisplay, confusion_matrix\n",
    "\n",
    "def plot_confusion_matrix(y_preds, y_true, labels):\n",
    "    cm = confusion_matrix(y_true, y_preds, normalize=\"true\")\n",
    "    fig, ax = plt.subplots(figsize=(6, 6))\n",
    "    disp = ConfusionMatrixDisplay(confusion_matrix=cm, display_labels=labels)\n",
    "    disp.plot(cmap=\"Blues\", values_format=\".2f\", ax=ax, colorbar=False)\n",
    "    plt.title(\"Normalized confusion matrix\")\n",
    "    plt.show()"
   ]
  },
  {
   "cell_type": "code",
   "execution_count": 91,
   "id": "4957b03a-3232-4fa5-8c86-c4eae41f7d61",
   "metadata": {},
   "outputs": [
    {
     "data": {
      "image/png": "[encoded data removed]",
      "text/plain": [
       "<Figure size 600x600 with 1 Axes>"
      ]
     },
     "metadata": {},
     "output_type": "display_data"
    }
   ],
   "source": [
    "y_preds = np.argmax(preds_output.predictions, axis=1)\n",
    "y_test = np.array(dataset_sentAnalysis_encoded[\"test\"][\"labels\"])\n",
    "labels = dataset_sentAnalysis_encoded[\"train\"].features[\"labels\"].names\n",
    "plot_confusion_matrix(y_preds, y_test, labels)"
   ]
  },
  {
   "cell_type": "code",
   "execution_count": 94,
   "id": "820ec5dd-c3b9-4e34-9f1b-66ecc22c5605",
   "metadata": {},
   "outputs": [
    {
     "name": "stdout",
     "output_type": "stream",
     "text": [
      "              precision    recall  f1-score   support\n",
      "\n",
      "    Negative       0.87      0.87      0.87      1633\n",
      "     Neutral       0.81      0.79      0.80       619\n",
      "    Positive       0.87      0.88      0.88      1546\n",
      "\n",
      "    accuracy                           0.86      3798\n",
      "   macro avg       0.85      0.85      0.85      3798\n",
      "weighted avg       0.86      0.86      0.86      3798\n",
      "\n"
     ]
    }
   ],
   "source": [
    "from sklearn.metrics import confusion_matrix, classification_report\n",
    "\n",
    "class_names =  ['Negative','Neutral', 'Positive']\n",
    "print(classification_report(y_test, y_preds, target_names=class_names))"
   ]
  },
  {
   "cell_type": "code",
   "execution_count": 109,
   "id": "5c36aed7",
   "metadata": {},
   "outputs": [],
   "source": [
    "def conf_matrix(y, y_pred, title):\n",
    "    fig, ax =plt.subplots(figsize=(5,5))\n",
    "    labels=['Negative', 'Neutral', 'Positive']\n",
    "    ax=sns.heatmap(confusion_matrix(y, y_pred), annot=True, cmap=\"Blues\", fmt='g', cbar=False, annot_kws={\"size\":25})\n",
    "    plt.title(title, fontsize=20)\n",
    "    ax.xaxis.set_ticklabels(labels, fontsize=17) \n",
    "    ax.yaxis.set_ticklabels(labels, fontsize=17)\n",
    "    ax.set_ylabel('Test', fontsize=20)\n",
    "    ax.set_xlabel('Predicted', fontsize=20)\n",
    "    plt.show()"
   ]
  },
  {
   "cell_type": "code",
   "execution_count": 112,
   "id": "6d12ba8c",
   "metadata": {},
   "outputs": [
    {
     "data": {
      "image/png": "[encoded data removed]",
      "text/plain": [
       "<Figure size 500x500 with 1 Axes>"
      ]
     },
     "metadata": {},
     "output_type": "display_data"
    }
   ],
   "source": [
    "conf_matrix(y_test,y_preds,'BERT Sentiment Analysis\\nConfusion Matrix')"
   ]
  },
  {
   "cell_type": "code",
   "execution_count": 95,
   "id": "307fab05-b1a3-4955-a915-e77d712857e3",
   "metadata": {},
   "outputs": [],
   "source": [
    "import numpy as np\n",
    "import torch.nn.functional as F\n",
    "\n",
    "def predict_text(model,text):\n",
    "  inputs = tokenizer(text, return_tensors=\"pt\", padding=True, truncation=True, max_length=max_len)\n",
    "  inputs = {k:v.to(device) for k,v in inputs.items()}\n",
    "  with torch.no_grad():\n",
    "    outputs = model(**inputs)\n",
    "  out = F.softmax(outputs.logits,dim=1)\n",
    "  y_out = np.argmax(out.cpu(),axis=1)\n",
    "  return out, y_out"
   ]
  },
  {
   "cell_type": "code",
   "execution_count": 101,
   "id": "60a256d6-4ebd-4cc4-9d89-ec413dc03966",
   "metadata": {},
   "outputs": [
    {
     "data": {
      "text/plain": [
       "(tensor([[9.6289e-02, 1.2552e-01, 7.7813e-01, 2.7661e-05, 2.7568e-05]]),\n",
       " 'Neutral')"
      ]
     },
     "execution_count": 101,
     "metadata": {},
     "output_type": "execute_result"
    }
   ],
   "source": [
    "sample_text = \"I love the movies, eshay bad tho\"\n",
    "out, y_out = predict_text(model,sample_text)\n",
    "out, id2label[y_out.item()]"
   ]
  },
  {
   "cell_type": "code",
   "execution_count": 104,
   "id": "c9b75a07-db16-4bf2-a7f7-1e10f3a6e5cd",
   "metadata": {},
   "outputs": [
    {
     "data": {
      "text/html": [
       "<div>\n",
       "<style scoped>\n",
       "    .dataframe tbody tr th:only-of-type {\n",
       "        vertical-align: middle;\n",
       "    }\n",
       "\n",
       "    .dataframe tbody tr th {\n",
       "        vertical-align: top;\n",
       "    }\n",
       "\n",
       "    .dataframe thead th {\n",
       "        text-align: right;\n",
       "    }\n",
       "</style>\n",
       "<table border=\"1\" class=\"dataframe\">\n",
       "  <thead>\n",
       "    <tr style=\"text-align: right;\">\n",
       "      <th></th>\n",
       "      <th>0</th>\n",
       "    </tr>\n",
       "  </thead>\n",
       "  <tbody>\n",
       "    <tr>\n",
       "      <th>Text</th>\n",
       "      <td>I love the movies, eshay bad tho</td>\n",
       "    </tr>\n",
       "    <tr>\n",
       "      <th>Sentiment</th>\n",
       "      <td>Positive</td>\n",
       "    </tr>\n",
       "  </tbody>\n",
       "</table>\n",
       "</div>"
      ],
      "text/plain": [
       "                                          0\n",
       "Text       I love the movies, eshay bad tho\n",
       "Sentiment                          Positive"
      ]
     },
     "execution_count": 104,
     "metadata": {},
     "output_type": "execute_result"
    }
   ],
   "source": [
    "pd.set_option('display.max_colwidth', None)\n",
    "pd.DataFrame({\n",
    "    \"Text\": sample_text,\n",
    "    \"Sentiment\": class_names[y_out.item()]\n",
    "},index=[0]).T\n"
   ]
  },
  {
   "cell_type": "code",
   "execution_count": null,
   "id": "22f37906",
   "metadata": {},
   "outputs": [],
   "source": []
  }
 ],
 "metadata": {
  "kernelspec": {
   "display_name": "Python 3 (ipykernel)",
   "language": "python",
   "name": "python3"
  },
  "language_info": {
   "codemirror_mode": {
    "name": "ipython",
    "version": 3
   },
   "file_extension": ".py",
   "mimetype": "text/x-python",
   "name": "python",
   "nbconvert_exporter": "python",
   "pygments_lexer": "ipython3",
   "version": "3.10.6"
  }
 },
 "nbformat": 4,
 "nbformat_minor": 5
}
