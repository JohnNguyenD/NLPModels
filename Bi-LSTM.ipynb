{
 "cells": [
  {
   "cell_type": "code",
   "execution_count": 23,
   "id": "c78d1c7b",
   "metadata": {},
   "outputs": [],
   "source": [
    "import pandas as pd\n",
    "import numpy as np\n",
    "import matplotlib.pyplot as plt\n",
    "import seaborn as sns\n",
    "from sklearn.model_selection import train_test_split\n",
    "from sklearn.metrics import classification_report\n",
    "pd.set_option('display.max_columns', None)\n",
    "\n",
    "from tensorflow.keras.preprocessing import text, sequence\n",
    "from tensorflow import keras\n",
    "from keras.utils import np_utils\n",
    "\n",
    "import nltk\n",
    "from nltk.corpus import stopwords\n",
    "from nltk.stem import SnowballStemmer\n",
    "\n",
    "import re\n",
    "from tqdm import tqdm\n",
    "import warnings\n",
    "warnings.filterwarnings('ignore')"
   ]
  },
  {
   "cell_type": "code",
   "execution_count": 26,
   "id": "ddbc965c",
   "metadata": {},
   "outputs": [],
   "source": [
    "train_df = pd.read_csv('Corona_NLP_train.csv', \n",
    "                       encoding='latin1')\n",
    "test_df = pd.read_csv('Corona_NLP_test.csv', \n",
    "                      encoding='latin1')\n"
   ]
  },
  {
   "cell_type": "code",
   "execution_count": 29,
   "id": "db3ac317",
   "metadata": {},
   "outputs": [
    {
     "data": {
      "text/html": [
       "<div>\n",
       "<style scoped>\n",
       "    .dataframe tbody tr th:only-of-type {\n",
       "        vertical-align: middle;\n",
       "    }\n",
       "\n",
       "    .dataframe tbody tr th {\n",
       "        vertical-align: top;\n",
       "    }\n",
       "\n",
       "    .dataframe thead th {\n",
       "        text-align: right;\n",
       "    }\n",
       "</style>\n",
       "<table border=\"1\" class=\"dataframe\">\n",
       "  <thead>\n",
       "    <tr style=\"text-align: right;\">\n",
       "      <th></th>\n",
       "      <th>UserName</th>\n",
       "      <th>ScreenName</th>\n",
       "      <th>Location</th>\n",
       "      <th>TweetAt</th>\n",
       "      <th>OriginalTweet</th>\n",
       "      <th>Sentiment</th>\n",
       "    </tr>\n",
       "  </thead>\n",
       "  <tbody>\n",
       "    <tr>\n",
       "      <th>0</th>\n",
       "      <td>3799</td>\n",
       "      <td>48751</td>\n",
       "      <td>London</td>\n",
       "      <td>16-03-2020</td>\n",
       "      <td>@MeNyrbie @Phil_Gahan @Chrisitv https://t.co/i...</td>\n",
       "      <td>Neutral</td>\n",
       "    </tr>\n",
       "    <tr>\n",
       "      <th>1</th>\n",
       "      <td>3800</td>\n",
       "      <td>48752</td>\n",
       "      <td>UK</td>\n",
       "      <td>16-03-2020</td>\n",
       "      <td>advice Talk to your neighbours family to excha...</td>\n",
       "      <td>Positive</td>\n",
       "    </tr>\n",
       "    <tr>\n",
       "      <th>2</th>\n",
       "      <td>3801</td>\n",
       "      <td>48753</td>\n",
       "      <td>Vagabonds</td>\n",
       "      <td>16-03-2020</td>\n",
       "      <td>Coronavirus Australia: Woolworths to give elde...</td>\n",
       "      <td>Positive</td>\n",
       "    </tr>\n",
       "    <tr>\n",
       "      <th>3</th>\n",
       "      <td>3802</td>\n",
       "      <td>48754</td>\n",
       "      <td>NaN</td>\n",
       "      <td>16-03-2020</td>\n",
       "      <td>My food stock is not the only one which is emp...</td>\n",
       "      <td>Positive</td>\n",
       "    </tr>\n",
       "    <tr>\n",
       "      <th>4</th>\n",
       "      <td>3803</td>\n",
       "      <td>48755</td>\n",
       "      <td>NaN</td>\n",
       "      <td>16-03-2020</td>\n",
       "      <td>Me, ready to go at supermarket during the #COV...</td>\n",
       "      <td>Extremely Negative</td>\n",
       "    </tr>\n",
       "  </tbody>\n",
       "</table>\n",
       "</div>"
      ],
      "text/plain": [
       "   UserName  ScreenName   Location     TweetAt  \\\n",
       "0      3799       48751     London  16-03-2020   \n",
       "1      3800       48752         UK  16-03-2020   \n",
       "2      3801       48753  Vagabonds  16-03-2020   \n",
       "3      3802       48754        NaN  16-03-2020   \n",
       "4      3803       48755        NaN  16-03-2020   \n",
       "\n",
       "                                       OriginalTweet           Sentiment  \n",
       "0  @MeNyrbie @Phil_Gahan @Chrisitv https://t.co/i...             Neutral  \n",
       "1  advice Talk to your neighbours family to excha...            Positive  \n",
       "2  Coronavirus Australia: Woolworths to give elde...            Positive  \n",
       "3  My food stock is not the only one which is emp...            Positive  \n",
       "4  Me, ready to go at supermarket during the #COV...  Extremely Negative  "
      ]
     },
     "execution_count": 29,
     "metadata": {},
     "output_type": "execute_result"
    }
   ],
   "source": [
    "train_df.head()\n"
   ]
  },
  {
   "cell_type": "code",
   "execution_count": 31,
   "id": "34b4ebb2",
   "metadata": {},
   "outputs": [
    {
     "data": {
      "text/html": [
       "<div>\n",
       "<style scoped>\n",
       "    .dataframe tbody tr th:only-of-type {\n",
       "        vertical-align: middle;\n",
       "    }\n",
       "\n",
       "    .dataframe tbody tr th {\n",
       "        vertical-align: top;\n",
       "    }\n",
       "\n",
       "    .dataframe thead th {\n",
       "        text-align: right;\n",
       "    }\n",
       "</style>\n",
       "<table border=\"1\" class=\"dataframe\">\n",
       "  <thead>\n",
       "    <tr style=\"text-align: right;\">\n",
       "      <th></th>\n",
       "      <th>UserName</th>\n",
       "      <th>ScreenName</th>\n",
       "      <th>Location</th>\n",
       "      <th>TweetAt</th>\n",
       "      <th>OriginalTweet</th>\n",
       "      <th>Sentiment</th>\n",
       "    </tr>\n",
       "  </thead>\n",
       "  <tbody>\n",
       "    <tr>\n",
       "      <th>0</th>\n",
       "      <td>1</td>\n",
       "      <td>44953</td>\n",
       "      <td>NYC</td>\n",
       "      <td>02-03-2020</td>\n",
       "      <td>TRENDING: New Yorkers encounter empty supermar...</td>\n",
       "      <td>Extremely Negative</td>\n",
       "    </tr>\n",
       "    <tr>\n",
       "      <th>1</th>\n",
       "      <td>2</td>\n",
       "      <td>44954</td>\n",
       "      <td>Seattle, WA</td>\n",
       "      <td>02-03-2020</td>\n",
       "      <td>When I couldn't find hand sanitizer at Fred Me...</td>\n",
       "      <td>Positive</td>\n",
       "    </tr>\n",
       "    <tr>\n",
       "      <th>2</th>\n",
       "      <td>3</td>\n",
       "      <td>44955</td>\n",
       "      <td>NaN</td>\n",
       "      <td>02-03-2020</td>\n",
       "      <td>Find out how you can protect yourself and love...</td>\n",
       "      <td>Extremely Positive</td>\n",
       "    </tr>\n",
       "    <tr>\n",
       "      <th>3</th>\n",
       "      <td>4</td>\n",
       "      <td>44956</td>\n",
       "      <td>Chicagoland</td>\n",
       "      <td>02-03-2020</td>\n",
       "      <td>#Panic buying hits #NewYork City as anxious sh...</td>\n",
       "      <td>Negative</td>\n",
       "    </tr>\n",
       "    <tr>\n",
       "      <th>4</th>\n",
       "      <td>5</td>\n",
       "      <td>44957</td>\n",
       "      <td>Melbourne, Victoria</td>\n",
       "      <td>03-03-2020</td>\n",
       "      <td>#toiletpaper #dunnypaper #coronavirus #coronav...</td>\n",
       "      <td>Neutral</td>\n",
       "    </tr>\n",
       "  </tbody>\n",
       "</table>\n",
       "</div>"
      ],
      "text/plain": [
       "   UserName  ScreenName             Location     TweetAt  \\\n",
       "0         1       44953                  NYC  02-03-2020   \n",
       "1         2       44954          Seattle, WA  02-03-2020   \n",
       "2         3       44955                  NaN  02-03-2020   \n",
       "3         4       44956          Chicagoland  02-03-2020   \n",
       "4         5       44957  Melbourne, Victoria  03-03-2020   \n",
       "\n",
       "                                       OriginalTweet           Sentiment  \n",
       "0  TRENDING: New Yorkers encounter empty supermar...  Extremely Negative  \n",
       "1  When I couldn't find hand sanitizer at Fred Me...            Positive  \n",
       "2  Find out how you can protect yourself and love...  Extremely Positive  \n",
       "3  #Panic buying hits #NewYork City as anxious sh...            Negative  \n",
       "4  #toiletpaper #dunnypaper #coronavirus #coronav...             Neutral  "
      ]
     },
     "execution_count": 31,
     "metadata": {},
     "output_type": "execute_result"
    }
   ],
   "source": [
    "test_df.head()"
   ]
  },
  {
   "cell_type": "code",
   "execution_count": 33,
   "id": "eb1677fe",
   "metadata": {},
   "outputs": [
    {
     "name": "stdout",
     "output_type": "stream",
     "text": [
      "<class 'pandas.core.frame.DataFrame'>\n",
      "RangeIndex: 41157 entries, 0 to 41156\n",
      "Data columns (total 6 columns):\n",
      " #   Column         Non-Null Count  Dtype \n",
      "---  ------         --------------  ----- \n",
      " 0   UserName       41157 non-null  int64 \n",
      " 1   ScreenName     41157 non-null  int64 \n",
      " 2   Location       32567 non-null  object\n",
      " 3   TweetAt        41157 non-null  object\n",
      " 4   OriginalTweet  41157 non-null  object\n",
      " 5   Sentiment      41157 non-null  object\n",
      "dtypes: int64(2), object(4)\n",
      "memory usage: 1.9+ MB\n"
     ]
    }
   ],
   "source": [
    "train_df.info()"
   ]
  },
  {
   "cell_type": "code",
   "execution_count": 35,
   "id": "a2a76431",
   "metadata": {},
   "outputs": [
    {
     "name": "stdout",
     "output_type": "stream",
     "text": [
      "<class 'pandas.core.frame.DataFrame'>\n",
      "RangeIndex: 3798 entries, 0 to 3797\n",
      "Data columns (total 6 columns):\n",
      " #   Column         Non-Null Count  Dtype \n",
      "---  ------         --------------  ----- \n",
      " 0   UserName       3798 non-null   int64 \n",
      " 1   ScreenName     3798 non-null   int64 \n",
      " 2   Location       2964 non-null   object\n",
      " 3   TweetAt        3798 non-null   object\n",
      " 4   OriginalTweet  3798 non-null   object\n",
      " 5   Sentiment      3798 non-null   object\n",
      "dtypes: int64(2), object(4)\n",
      "memory usage: 178.2+ KB\n"
     ]
    }
   ],
   "source": [
    "test_df.info()"
   ]
  },
  {
   "cell_type": "code",
   "execution_count": 37,
   "id": "d160a70f",
   "metadata": {},
   "outputs": [
    {
     "data": {
      "text/plain": [
       "UserName            0\n",
       "ScreenName          0\n",
       "Location         8590\n",
       "TweetAt             0\n",
       "OriginalTweet       0\n",
       "Sentiment           0\n",
       "dtype: int64"
      ]
     },
     "execution_count": 37,
     "metadata": {},
     "output_type": "execute_result"
    }
   ],
   "source": [
    "train_df.isna().sum()"
   ]
  },
  {
   "cell_type": "code",
   "execution_count": 39,
   "id": "18d6b1fa",
   "metadata": {},
   "outputs": [
    {
     "data": {
      "text/plain": [
       "UserName           0\n",
       "ScreenName         0\n",
       "Location         834\n",
       "TweetAt            0\n",
       "OriginalTweet      0\n",
       "Sentiment          0\n",
       "dtype: int64"
      ]
     },
     "execution_count": 39,
     "metadata": {},
     "output_type": "execute_result"
    }
   ],
   "source": [
    "test_df.isna().sum()"
   ]
  },
  {
   "cell_type": "code",
   "execution_count": 41,
   "id": "9d26bbbf",
   "metadata": {},
   "outputs": [
    {
     "data": {
      "text/plain": [
       "((37041,), (4116,), (37041,), (4116,))"
      ]
     },
     "execution_count": 41,
     "metadata": {},
     "output_type": "execute_result"
    }
   ],
   "source": [
    "X_train, X_val, y_train, y_val = train_test_split(train_df.OriginalTweet.values, train_df.Sentiment.values,\n",
    "                                                  stratify=train_df.Sentiment.values,\n",
    "                                                  test_size=.1, shuffle=True, random_state=42)\n",
    "\n",
    "X_train.shape, X_val.shape, y_train.shape, y_val.shape"
   ]
  },
  {
   "cell_type": "code",
   "execution_count": 43,
   "id": "4e9f700c",
   "metadata": {},
   "outputs": [],
   "source": [
    "X_test = test_df.OriginalTweet.values\n",
    "y_test = test_df.Sentiment.values"
   ]
  },
  {
   "cell_type": "code",
   "execution_count": 45,
   "id": "fb9a05b4",
   "metadata": {},
   "outputs": [],
   "source": [
    "text_len = np.array([len(tweet.split(' ')) for tweet in X_train])\n"
   ]
  },
  {
   "cell_type": "code",
   "execution_count": 47,
   "id": "f454f58f",
   "metadata": {},
   "outputs": [
    {
     "data": {
      "image/png": "[encoded data removed]",
      "text/plain": [
       "<Figure size 1200x800 with 1 Axes>"
      ]
     },
     "metadata": {},
     "output_type": "display_data"
    }
   ],
   "source": [
    "plt.subplots(figsize=(12,8))\n",
    "sns.distplot(text_len[(y_train == 'Negative')], color='r')\n",
    "sns.distplot(text_len[(y_train == 'Extremely Negative')], color='purple')\n",
    "sns.distplot(text_len[(y_train == 'Positive')], color='g')\n",
    "sns.distplot(text_len[(y_train == 'Extremely Positive')], color='blue')\n",
    "sns.distplot(text_len[y_train == 'Neutral'], color='black')\n",
    "plt.legend(['Negative', 'Extremely Negative',\n",
    "            'Positive', 'Extremely Positive',\n",
    "            'Neutral'])\n",
    "plt.title('Sentiment Distribution by Tweet Length', fontsize=20)\n",
    "plt.show()"
   ]
  },
  {
   "cell_type": "code",
   "execution_count": 49,
   "id": "10657ed4",
   "metadata": {},
   "outputs": [],
   "source": [
    "def remove_emoji(text):\n",
    "    emoji_pattern = re.compile(\n",
    "        '['\n",
    "        u'\\U0001F600-\\U0001F64F'  # emoticons\n",
    "        u'\\U0001F300-\\U0001F5FF'  # symbols & pictographs\n",
    "        u'\\U0001F680-\\U0001F6FF'  # transport & map symbols\n",
    "        u'\\U0001F1E0-\\U0001F1FF'  # flags (iOS)\n",
    "        u'\\U00002702-\\U000027B0'\n",
    "        u'\\U000024C2-\\U0001F251'\n",
    "        ']+',\n",
    "        flags=re.UNICODE)\n",
    "    return emoji_pattern.sub(r'', text)\n",
    "\n",
    "def clean_text(text):\n",
    "    text = str(text).lower()\n",
    "    text = remove_emoji(text)\n",
    "    text = re.sub(r'https?://\\S+|www\\.\\S+', '', text)\n",
    "    text = re.sub(r'RT[\\s]+', '', text)\n",
    "    text = re.sub(r'@\\S+', '', text)\n",
    "    text = re.sub(r'#', '', text)\n",
    "    text = re.sub(r'\\[', '', text)\n",
    "    text = re.sub(r'\\]', '', text)\n",
    "    text = re.sub('â\\\\x92', \"'\", text)\n",
    "    text = re.sub('â\\S+', '', text)\n",
    "    text = re.sub('\\.+', '.', text)\n",
    "    text = re.sub('&amp;', 'and', text)\n",
    "    text = re.sub(\"let's\", 'let us', text)\n",
    "    text = re.sub(\"'s\", ' is', text)\n",
    "    text = re.sub(\"'re\", ' are', text)\n",
    "    text = re.sub(\"ain't\", 'am not', text)\n",
    "    text = re.sub(\"won't\", 'will not', text)\n",
    "    text = re.sub(\"n't\", ' not', text)\n",
    "    text = re.sub(\"'ve\", ' have', text)\n",
    "    text = re.sub(\"y'all\", \"you all\", text)\n",
    "    text = re.sub(\"'ll\", ' will', text)\n",
    "    text = re.sub(\"i'd\", 'i would', text)\n",
    "    text = re.sub(\"i'm\", 'i am', text)\n",
    "    text = re.sub(r\"[^a-z<>!?\\s]+\", '', text)\n",
    "    text = re.sub('covid\\S*', 'coronavirus', text)\n",
    "    text = re.sub('corona\\S*', 'coronavirus', text)\n",
    "    text = re.sub(r'\\s+', ' ', text)\n",
    "    \n",
    "    return text"
   ]
  },
  {
   "cell_type": "code",
   "execution_count": 51,
   "id": "fc58a7e0",
   "metadata": {},
   "outputs": [],
   "source": [
    "X_train_clean = np.array([clean_text(text) for text in X_train], dtype='O')\n",
    "X_val_clean = np.array([clean_text(text) for text in X_val], dtype='O')\n",
    "X_test_clean = np.array([clean_text(text) for text in X_test], dtype='O')"
   ]
  },
  {
   "cell_type": "code",
   "execution_count": 53,
   "id": "dbcf9c53",
   "metadata": {},
   "outputs": [
    {
     "name": "stderr",
     "output_type": "stream",
     "text": [
      "[nltk_data] Downloading package omw-1.4 to\n",
      "[nltk_data]     /Users/johnnguyen/nltk_data...\n",
      "[nltk_data]   Package omw-1.4 is already up-to-date!\n"
     ]
    }
   ],
   "source": [
    "from nltk.stem import WordNetLemmatizer\n",
    "import nltk\n",
    "nltk.download('omw-1.4')\n",
    "lemmatizer = WordNetLemmatizer()\n",
    "tokenizer = nltk.tokenize.TweetTokenizer()\n",
    "def lemmatize(sentence):\n",
    "    words = tokenizer.tokenize(sentence)\n",
    "    words = [lemmatizer.lemmatize(word) for word in words if word not in stopwords.words('english')]\n",
    "    return words"
   ]
  },
  {
   "cell_type": "code",
   "execution_count": 55,
   "id": "07c047c6",
   "metadata": {},
   "outputs": [
    {
     "name": "stderr",
     "output_type": "stream",
     "text": [
      "100%|████████████████████████████████████| 37041/37041 [00:50<00:00, 727.44it/s]\n"
     ]
    },
    {
     "name": "stdout",
     "output_type": "stream",
     "text": [
      "LEMMATIZE TRAIN DONE!\n"
     ]
    },
    {
     "name": "stderr",
     "output_type": "stream",
     "text": [
      "100%|██████████████████████████████████████| 4116/4116 [00:05<00:00, 737.57it/s]\n"
     ]
    },
    {
     "name": "stdout",
     "output_type": "stream",
     "text": [
      "LEMMATIZE VAL DONE!\n"
     ]
    },
    {
     "name": "stderr",
     "output_type": "stream",
     "text": [
      "100%|██████████████████████████████████████| 3798/3798 [00:05<00:00, 670.32it/s]"
     ]
    },
    {
     "name": "stdout",
     "output_type": "stream",
     "text": [
      "LEMMATIZE TEST DONE!\n"
     ]
    },
    {
     "name": "stderr",
     "output_type": "stream",
     "text": [
      "\n"
     ]
    }
   ],
   "source": [
    "X_train_clean = np.array([lemmatize(text) for text in tqdm(X_train_clean)], dtype='O')\n",
    "print('LEMMATIZE TRAIN DONE!')\n",
    "X_val_clean = np.array([lemmatize(text) for text in tqdm(X_val_clean)], dtype='O')\n",
    "print('LEMMATIZE VAL DONE!')\n",
    "X_test_clean = np.array([lemmatize(text) for text in tqdm(X_test_clean)], dtype='O')\n",
    "print('LEMMATIZE TEST DONE!')"
   ]
  },
  {
   "cell_type": "code",
   "execution_count": 58,
   "id": "ed6acebc",
   "metadata": {},
   "outputs": [
    {
     "data": {
      "text/plain": [
       "151"
      ]
     },
     "execution_count": 58,
     "metadata": {},
     "output_type": "execute_result"
    }
   ],
   "source": [
    "max_len = max([len(sent) for sent in X_train_clean])\n",
    "max_len"
   ]
  },
  {
   "cell_type": "code",
   "execution_count": 59,
   "id": "f6a31a28",
   "metadata": {},
   "outputs": [],
   "source": [
    "model_tokenizer = text.Tokenizer(filters=None, oov_token='<OOV>')\n",
    "model_tokenizer.fit_on_texts(list(X_train_clean) + list(X_val_clean))\n",
    "X_train_ready = sequence.pad_sequences(model_tokenizer.texts_to_sequences(X_train_clean),\n",
    "                                       maxlen=max_len, padding='post')\n",
    "X_val_ready = sequence.pad_sequences(model_tokenizer.texts_to_sequences(X_val_clean),\n",
    "                                       maxlen=max_len, padding='post')\n",
    "X_test_ready = sequence.pad_sequences(model_tokenizer.texts_to_sequences(X_test_clean),\n",
    "                                       maxlen=max_len, padding='post')\n",
    "\n",
    "word_index = model_tokenizer.word_index"
   ]
  },
  {
   "cell_type": "code",
   "execution_count": 60,
   "id": "3c581247",
   "metadata": {},
   "outputs": [
    {
     "name": "stderr",
     "output_type": "stream",
     "text": [
      "\n",
      "\n",
      "100%|████████████████████████████████| 42931/42931 [00:00<00:00, 2265946.00it/s]\u001b[A\u001b[A\n"
     ]
    }
   ],
   "source": [
    "embedding_matrix = np.zeros((len(word_index) + 1, 200))\n",
    "for word, i in tqdm(word_index.items()):\n",
    "    vector = embedding_index.get(word)\n",
    "    if vector is not None:\n",
    "        embedding_matrix[i] = vector"
   ]
  },
  {
   "cell_type": "code",
   "execution_count": 61,
   "id": "d9ba20e8",
   "metadata": {},
   "outputs": [
    {
     "data": {
      "text/plain": [
       "array([[0., 0., 0., ..., 0., 0., 0.],\n",
       "       [0., 0., 0., ..., 0., 0., 0.],\n",
       "       [0., 0., 0., ..., 0., 0., 0.],\n",
       "       ...,\n",
       "       [0., 0., 0., ..., 0., 0., 0.],\n",
       "       [0., 0., 0., ..., 0., 0., 0.],\n",
       "       [0., 0., 0., ..., 0., 0., 0.]])"
      ]
     },
     "execution_count": 61,
     "metadata": {},
     "output_type": "execute_result"
    }
   ],
   "source": [
    "embedding_matrix"
   ]
  },
  {
   "cell_type": "code",
   "execution_count": 62,
   "id": "59a9422e",
   "metadata": {},
   "outputs": [],
   "source": [
    "from sklearn.preprocessing import OneHotEncoder\n",
    "\n",
    "onehot = OneHotEncoder()\n",
    "y_train_onehot = onehot.fit_transform(y_train.reshape(-1,1)).toarray()\n",
    "y_val_onehot = onehot.transform(y_val.reshape(-1,1)).toarray()\n",
    "y_test_onehot = onehot.transform(y_test.reshape(-1,1)).toarray()"
   ]
  },
  {
   "cell_type": "code",
   "execution_count": 63,
   "id": "29dfe3b6",
   "metadata": {},
   "outputs": [],
   "source": [
    "y_train_3, y_val_3, y_test_3 = y_train.copy(), y_val.copy(), y_test.copy()\n",
    "\n",
    "y_train_3[y_train_3 == 'Extremely Positive'] = 'Positive'\n",
    "y_train_3[y_train_3 == 'Extremely Negative'] = 'Negative'\n",
    "y_val_3[y_val_3 == 'Extremely Positive'] = 'Positive'\n",
    "y_val_3[y_val_3 == 'Extremely Negative'] = 'Negative'\n",
    "y_test_3[y_test_3 == 'Extremely Positive'] = 'Positive'\n",
    "y_test_3[y_test_3 == 'Extremely Negative'] = 'Negative'"
   ]
  },
  {
   "cell_type": "code",
   "execution_count": 64,
   "id": "38330662",
   "metadata": {},
   "outputs": [
    {
     "data": {
      "text/plain": [
       "array([[0., 0., 1.],\n",
       "       [0., 1., 0.],\n",
       "       [1., 0., 0.],\n",
       "       ...,\n",
       "       [1., 0., 0.],\n",
       "       [0., 0., 1.],\n",
       "       [0., 0., 1.]])"
      ]
     },
     "execution_count": 64,
     "metadata": {},
     "output_type": "execute_result"
    }
   ],
   "source": [
    "onehot_3 = OneHotEncoder()\n",
    "\n",
    "y_train_3_onehot = onehot_3.fit_transform(y_train_3.reshape(-1,1)).toarray()\n",
    "y_val_3_onehot = onehot_3.transform(y_val_3.reshape(-1,1)).toarray()\n",
    "y_test_3_onehot = onehot_3.transform(y_test_3.reshape(-1,1)).toarray()\n",
    "\n",
    "y_train_3_onehot"
   ]
  },
  {
   "cell_type": "code",
   "execution_count": 65,
   "id": "c43bb1fb",
   "metadata": {},
   "outputs": [
    {
     "name": "stdout",
     "output_type": "stream",
     "text": [
      "Model: \"sequential\"\n",
      "_________________________________________________________________\n",
      " Layer (type)                Output Shape              Param #   \n",
      "=================================================================\n",
      " embedding (Embedding)       (None, 151, 200)          8586400   \n",
      "                                                                 \n",
      " spatial_dropout1d (SpatialD  (None, 151, 200)         0         \n",
      " ropout1D)                                                       \n",
      "                                                                 \n",
      " bidirectional (Bidirectiona  (None, 200)              240800    \n",
      " l)                                                              \n",
      "                                                                 \n",
      " batch_normalization (BatchN  (None, 200)              800       \n",
      " ormalization)                                                   \n",
      "                                                                 \n",
      " dropout (Dropout)           (None, 200)               0         \n",
      "                                                                 \n",
      " dense (Dense)               (None, 3)                 603       \n",
      "                                                                 \n",
      "=================================================================\n",
      "Total params: 8,828,603\n",
      "Trainable params: 241,803\n",
      "Non-trainable params: 8,586,800\n",
      "_________________________________________________________________\n"
     ]
    }
   ],
   "source": [
    "model_3 = keras.models.Sequential([\n",
    "    keras.layers.Embedding(len(word_index)+1,\n",
    "                           200,\n",
    "                           input_length=max_len,\n",
    "                           weights=[embedding_matrix],\n",
    "                           trainable=False),\n",
    "    keras.layers.SpatialDropout1D(.5),\n",
    "    keras.layers.Bidirectional(keras.layers.LSTM(100, recurrent_dropout=.3)),\n",
    "    keras.layers.BatchNormalization(),\n",
    "    keras.layers.Dropout(.6),\n",
    "    \n",
    "    keras.layers.Dense(3, activation='softmax')\n",
    "])\n",
    "\n",
    "model_3.compile(optimizer=keras.optimizers.Adam(learning_rate=.01),\n",
    "              loss='categorical_crossentropy',\n",
    "              metrics='accuracy')\n",
    "\n",
    "model_3.summary()"
   ]
  },
  {
   "cell_type": "code",
   "execution_count": 66,
   "id": "4aa60eb6",
   "metadata": {},
   "outputs": [
    {
     "name": "stdout",
     "output_type": "stream",
     "text": [
      "Epoch 1/10\n"
     ]
    },
    {
     "name": "stderr",
     "output_type": "stream",
     "text": [
      "2023-03-24 14:48:04.875139: W tensorflow/core/platform/profile_utils/cpu_utils.cc:128] Failed to get CPU frequency: 0 Hz\n",
      "  0%|                                                 | 0/37041 [14:00<?, ?it/s]\n",
      "  0%|                                                 | 0/37041 [02:02<?, ?it/s]\n"
     ]
    },
    {
     "name": "stdout",
     "output_type": "stream",
     "text": [
      "73/73 [==============================] - 72s 962ms/step - loss: 1.0538 - accuracy: 0.4264 - val_loss: 1.0431 - val_accuracy: 0.4385\n",
      "Epoch 2/10\n",
      "73/73 [==============================] - ETA: 0s - loss: 1.0469 - accuracy: 0.4317Restoring model weights from the end of the best epoch: 1.\n",
      "73/73 [==============================] - 95s 1s/step - loss: 1.0469 - accuracy: 0.4317 - val_loss: 1.0433 - val_accuracy: 0.4385\n",
      "Epoch 2: early stopping\n"
     ]
    }
   ],
   "source": [
    "es = keras.callbacks.EarlyStopping(monitor='val_loss', patience=1,\n",
    "                                   restore_best_weights=True, verbose=1)\n",
    "\n",
    "history = model_3.fit(X_train_ready, y_train_3_onehot, validation_data=(X_val_ready, y_val_3_onehot),\n",
    "                      epochs=10, batch_size=512, callbacks=[es])"
   ]
  },
  {
   "cell_type": "code",
   "execution_count": 67,
   "id": "1308fe2e",
   "metadata": {},
   "outputs": [
    {
     "name": "stdout",
     "output_type": "stream",
     "text": [
      "Model: \"sequential\"\n",
      "_________________________________________________________________\n",
      " Layer (type)                Output Shape              Param #   \n",
      "=================================================================\n",
      " embedding (Embedding)       (None, 151, 200)          8586400   \n",
      "                                                                 \n",
      " spatial_dropout1d (SpatialD  (None, 151, 200)         0         \n",
      " ropout1D)                                                       \n",
      "                                                                 \n",
      " bidirectional (Bidirectiona  (None, 200)              240800    \n",
      " l)                                                              \n",
      "                                                                 \n",
      " batch_normalization (BatchN  (None, 200)              800       \n",
      " ormalization)                                                   \n",
      "                                                                 \n",
      " dropout (Dropout)           (None, 200)               0         \n",
      "                                                                 \n",
      " dense (Dense)               (None, 3)                 603       \n",
      "                                                                 \n",
      "=================================================================\n",
      "Total params: 8,828,603\n",
      "Trainable params: 8,828,203\n",
      "Non-trainable params: 400\n",
      "_________________________________________________________________\n"
     ]
    }
   ],
   "source": [
    "model_3.layers[0].trainable = True\n",
    "model_3.compile(optimizer=keras.optimizers.Adam(learning_rate=.001),\n",
    "                loss='categorical_crossentropy',\n",
    "                metrics='accuracy')\n",
    "\n",
    "model_3.summary()"
   ]
  },
  {
   "cell_type": "code",
   "execution_count": 68,
   "id": "2be9cba7",
   "metadata": {},
   "outputs": [
    {
     "name": "stdout",
     "output_type": "stream",
     "text": [
      "Epoch 1/90\n",
      "73/73 [==============================] - 85s 1s/step - loss: 0.7783 - accuracy: 0.6542 - val_loss: 0.9529 - val_accuracy: 0.5214 - lr: 0.0010\n",
      "Epoch 2/90\n",
      "73/73 [==============================] - 106s 1s/step - loss: 0.4282 - accuracy: 0.8522 - val_loss: 0.8722 - val_accuracy: 0.6336 - lr: 0.0010\n",
      "Epoch 3/90\n",
      "73/73 [==============================] - 116s 2s/step - loss: 0.2866 - accuracy: 0.9078 - val_loss: 0.7465 - val_accuracy: 0.6929 - lr: 0.0010\n",
      "Epoch 4/90\n",
      "73/73 [==============================] - 116s 2s/step - loss: 0.2141 - accuracy: 0.9325 - val_loss: 0.6832 - val_accuracy: 0.7106 - lr: 0.0010\n",
      "Epoch 5/90\n",
      "73/73 [==============================] - 116s 2s/step - loss: 0.1676 - accuracy: 0.9467 - val_loss: 0.6362 - val_accuracy: 0.7553 - lr: 0.0010\n",
      "Epoch 6/90\n",
      "73/73 [==============================] - 116s 2s/step - loss: 0.1355 - accuracy: 0.9570 - val_loss: 0.6731 - val_accuracy: 0.7782 - lr: 0.0010\n",
      "Epoch 7/90\n",
      "73/73 [==============================] - 118s 2s/step - loss: 0.1153 - accuracy: 0.9633 - val_loss: 0.8246 - val_accuracy: 0.7665 - lr: 0.0010\n",
      "Epoch 8/90\n",
      "73/73 [==============================] - ETA: 0s - loss: 0.0952 - accuracy: 0.9700\n",
      "Epoch 8: ReduceLROnPlateau reducing learning rate to 0.00010000000474974513.\n",
      "73/73 [==============================] - 113s 2s/step - loss: 0.0952 - accuracy: 0.9700 - val_loss: 0.8932 - val_accuracy: 0.7665 - lr: 0.0010\n",
      "Epoch 9/90\n",
      "73/73 [==============================] - 115s 2s/step - loss: 0.0672 - accuracy: 0.9802 - val_loss: 0.9589 - val_accuracy: 0.7687 - lr: 1.0000e-04\n",
      "Epoch 10/90\n",
      "73/73 [==============================] - 116s 2s/step - loss: 0.0604 - accuracy: 0.9828 - val_loss: 0.9929 - val_accuracy: 0.7677 - lr: 1.0000e-04\n",
      "Epoch 11/90\n",
      "73/73 [==============================] - ETA: 0s - loss: 0.0528 - accuracy: 0.9852\n",
      "Epoch 11: ReduceLROnPlateau reducing learning rate to 1.0000000474974514e-05.\n",
      "73/73 [==============================] - 114s 2s/step - loss: 0.0528 - accuracy: 0.9852 - val_loss: 1.0175 - val_accuracy: 0.7663 - lr: 1.0000e-04\n",
      "Epoch 12/90\n",
      "73/73 [==============================] - 113s 2s/step - loss: 0.0498 - accuracy: 0.9865 - val_loss: 1.0244 - val_accuracy: 0.7651 - lr: 1.0000e-05\n",
      "Epoch 13/90\n",
      "73/73 [==============================] - 116s 2s/step - loss: 0.0482 - accuracy: 0.9867 - val_loss: 1.0263 - val_accuracy: 0.7651 - lr: 1.0000e-05\n",
      "Epoch 14/90\n",
      "73/73 [==============================] - ETA: 0s - loss: 0.0469 - accuracy: 0.9873\n",
      "Epoch 14: ReduceLROnPlateau reducing learning rate to 1.0000000656873453e-06.\n",
      "73/73 [==============================] - 118s 2s/step - loss: 0.0469 - accuracy: 0.9873 - val_loss: 1.0301 - val_accuracy: 0.7668 - lr: 1.0000e-05\n",
      "Epoch 15/90\n",
      "73/73 [==============================] - ETA: 0s - loss: 0.0467 - accuracy: 0.9870Restoring model weights from the end of the best epoch: 5.\n",
      "73/73 [==============================] - 116s 2s/step - loss: 0.0467 - accuracy: 0.9870 - val_loss: 1.0292 - val_accuracy: 0.7660 - lr: 1.0000e-06\n",
      "Epoch 15: early stopping\n"
     ]
    }
   ],
   "source": [
    "es = keras.callbacks.EarlyStopping(monitor='val_loss', patience=10,\n",
    "                                   restore_best_weights=True, verbose=1)\n",
    "reduce_lr = keras.callbacks.ReduceLROnPlateau(monitor='val_loss', patience=3, verbose=1,\n",
    "                                              factor=.1)\n",
    "\n",
    "history = model_3.fit(X_train_ready, y_train_3_onehot, validation_data=(X_val_ready, y_val_3_onehot),\n",
    "                      epochs=90, batch_size=512, callbacks=[es, reduce_lr])"
   ]
  },
  {
   "cell_type": "code",
   "execution_count": 69,
   "id": "7fe4dd26",
   "metadata": {},
   "outputs": [
    {
     "name": "stdout",
     "output_type": "stream",
     "text": [
      "119/119 [==============================] - 11s 89ms/step - loss: 0.6666 - accuracy: 0.7293\n",
      "Test set Accuracy with 3 Classes: 0.729\n"
     ]
    }
   ],
   "source": [
    "loss, acc = model_3.evaluate(X_test_ready, y_test_3_onehot)\n",
    "print(f'Test set Accuracy with 3 Classes: {acc:.3f}')"
   ]
  },
  {
   "cell_type": "code",
   "execution_count": 70,
   "id": "356b185e",
   "metadata": {},
   "outputs": [
    {
     "name": "stdout",
     "output_type": "stream",
     "text": [
      "119/119 [==============================] - 10s 80ms/step\n"
     ]
    }
   ],
   "source": [
    "y_pred_3 = model_3.predict(X_test_ready)\n",
    "y_pred_3 = np.argmax(y_pred_3, axis=1)"
   ]
  },
  {
   "cell_type": "code",
   "execution_count": 71,
   "id": "1227cf94",
   "metadata": {},
   "outputs": [
    {
     "data": {
      "text/plain": [
       "array(['Negative', 'Positive', 'Positive', ..., 'Neutral', 'Negative',\n",
       "       'Positive'], dtype=object)"
      ]
     },
     "execution_count": 71,
     "metadata": {},
     "output_type": "execute_result"
    }
   ],
   "source": [
    "y_pred_3 = y_pred_3.astype('O')\n",
    "y_pred_3[y_pred_3 == 0] = onehot_3.categories_[0][0]\n",
    "y_pred_3[y_pred_3 == 1] = onehot_3.categories_[0][1]\n",
    "y_pred_3[y_pred_3 == 2] = onehot_3.categories_[0][2]\n",
    "\n",
    "y_pred_3"
   ]
  },
  {
   "cell_type": "code",
   "execution_count": 72,
   "id": "9a5b6593",
   "metadata": {},
   "outputs": [
    {
     "name": "stdout",
     "output_type": "stream",
     "text": [
      "              precision    recall  f1-score   support\n",
      "\n",
      "    Negative       0.73      0.79      0.76      1633\n",
      "     Neutral       0.83      0.26      0.40       619\n",
      "    Positive       0.71      0.85      0.78      1546\n",
      "\n",
      "    accuracy                           0.73      3798\n",
      "   macro avg       0.76      0.64      0.65      3798\n",
      "weighted avg       0.74      0.73      0.71      3798\n",
      "\n"
     ]
    }
   ],
   "source": [
    "print(classification_report(y_test_3, y_pred_3))"
   ]
  },
  {
   "cell_type": "code",
   "execution_count": null,
   "id": "4a07a5bc",
   "metadata": {},
   "outputs": [],
   "source": []
  }
 ],
 "metadata": {
  "kernelspec": {
   "display_name": "Python 3 (ipykernel)",
   "language": "python",
   "name": "python3"
  },
  "language_info": {
   "codemirror_mode": {
    "name": "ipython",
    "version": 3
   },
   "file_extension": ".py",
   "mimetype": "text/x-python",
   "name": "python",
   "nbconvert_exporter": "python",
   "pygments_lexer": "ipython3",
   "version": "3.10.6"
  }
 },
 "nbformat": 4,
 "nbformat_minor": 5
}
