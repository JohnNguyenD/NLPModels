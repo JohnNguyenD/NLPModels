{
 "cells": [
  {
   "cell_type": "code",
   "execution_count": 1,
   "id": "5c0ba3af-afb0-4a20-af55-5c8258b893ef",
   "metadata": {},
   "outputs": [
    {
     "name": "stdout",
     "output_type": "stream",
     "text": [
      "Note: you may need to restart the kernel to use updated packages.\n"
     ]
    }
   ],
   "source": [
    "pip install -qq transformers"
   ]
  },
  {
   "cell_type": "code",
   "execution_count": 2,
   "id": "b49ab206-6c23-4c48-945f-6a138c36e1e9",
   "metadata": {},
   "outputs": [],
   "source": [
    "!pip install -q -U watermark"
   ]
  },
  {
   "cell_type": "code",
   "execution_count": 3,
   "id": "d6c9ed2d-8f7e-440c-af6c-bafc3fa55a91",
   "metadata": {},
   "outputs": [],
   "source": [
    "!pip install -q -U seaborn"
   ]
  },
  {
   "cell_type": "code",
   "execution_count": 4,
   "id": "6c88d076-c72c-4223-95d7-91fab950b6e5",
   "metadata": {},
   "outputs": [],
   "source": [
    "!pip install --quiet datasets\n",
    "!pip install --quiet emoji\n",
    "!pip install --quiet kaggle\n",
    "!pip install --quiet torchinfo\n",
    "!pip install --quiet imbalanced-learn\n",
    "!pip install --quiet gdown"
   ]
  },
  {
   "cell_type": "code",
   "execution_count": 5,
   "id": "870bd542-996c-4d65-a52e-be560f665d5a",
   "metadata": {},
   "outputs": [],
   "source": [
    "!pip install --quiet nltk"
   ]
  },
  {
   "cell_type": "code",
   "execution_count": 6,
   "id": "5c598740-c502-4f92-9ba0-6d09ba4fc38f",
   "metadata": {},
   "outputs": [
    {
     "name": "stdout",
     "output_type": "stream",
     "text": [
      "Requirement already satisfied: ipywidgets in /Users/johnnguyen/mambaforge/envs/tensorflow/lib/python3.9/site-packages (8.0.2)\n",
      "Requirement already satisfied: jupyterlab-widgets~=3.0 in /Users/johnnguyen/mambaforge/envs/tensorflow/lib/python3.9/site-packages (from ipywidgets) (3.0.3)\n",
      "Requirement already satisfied: ipykernel>=4.5.1 in /Users/johnnguyen/mambaforge/envs/tensorflow/lib/python3.9/site-packages (from ipywidgets) (6.17.1)\n",
      "Requirement already satisfied: widgetsnbextension~=4.0 in /Users/johnnguyen/mambaforge/envs/tensorflow/lib/python3.9/site-packages (from ipywidgets) (4.0.3)\n",
      "Requirement already satisfied: traitlets>=4.3.1 in /Users/johnnguyen/mambaforge/envs/tensorflow/lib/python3.9/site-packages (from ipywidgets) (5.5.0)\n",
      "Requirement already satisfied: ipython>=6.1.0 in /Users/johnnguyen/mambaforge/envs/tensorflow/lib/python3.9/site-packages (from ipywidgets) (8.6.0)\n",
      "Requirement already satisfied: matplotlib-inline>=0.1 in /Users/johnnguyen/mambaforge/envs/tensorflow/lib/python3.9/site-packages (from ipykernel>=4.5.1->ipywidgets) (0.1.6)\n",
      "Requirement already satisfied: tornado>=6.1 in /Users/johnnguyen/mambaforge/envs/tensorflow/lib/python3.9/site-packages (from ipykernel>=4.5.1->ipywidgets) (6.2)\n",
      "Requirement already satisfied: pyzmq>=17 in /Users/johnnguyen/mambaforge/envs/tensorflow/lib/python3.9/site-packages (from ipykernel>=4.5.1->ipywidgets) (24.0.1)\n",
      "Requirement already satisfied: packaging in /Users/johnnguyen/mambaforge/envs/tensorflow/lib/python3.9/site-packages (from ipykernel>=4.5.1->ipywidgets) (21.3)\n",
      "Requirement already satisfied: nest-asyncio in /Users/johnnguyen/mambaforge/envs/tensorflow/lib/python3.9/site-packages (from ipykernel>=4.5.1->ipywidgets) (1.5.6)\n",
      "Requirement already satisfied: psutil in /Users/johnnguyen/mambaforge/envs/tensorflow/lib/python3.9/site-packages (from ipykernel>=4.5.1->ipywidgets) (5.9.4)\n",
      "Requirement already satisfied: debugpy>=1.0 in /Users/johnnguyen/mambaforge/envs/tensorflow/lib/python3.9/site-packages (from ipykernel>=4.5.1->ipywidgets) (1.6.3)\n",
      "Requirement already satisfied: jupyter-client>=6.1.12 in /Users/johnnguyen/mambaforge/envs/tensorflow/lib/python3.9/site-packages (from ipykernel>=4.5.1->ipywidgets) (7.4.7)\n",
      "Requirement already satisfied: appnope in /Users/johnnguyen/mambaforge/envs/tensorflow/lib/python3.9/site-packages (from ipykernel>=4.5.1->ipywidgets) (0.1.3)\n",
      "Requirement already satisfied: decorator in /Users/johnnguyen/mambaforge/envs/tensorflow/lib/python3.9/site-packages (from ipython>=6.1.0->ipywidgets) (5.1.1)\n",
      "Requirement already satisfied: prompt-toolkit<3.1.0,>3.0.1 in /Users/johnnguyen/mambaforge/envs/tensorflow/lib/python3.9/site-packages (from ipython>=6.1.0->ipywidgets) (3.0.32)\n",
      "Requirement already satisfied: backcall in /Users/johnnguyen/mambaforge/envs/tensorflow/lib/python3.9/site-packages (from ipython>=6.1.0->ipywidgets) (0.2.0)\n",
      "Requirement already satisfied: pickleshare in /Users/johnnguyen/mambaforge/envs/tensorflow/lib/python3.9/site-packages (from ipython>=6.1.0->ipywidgets) (0.7.5)\n",
      "Requirement already satisfied: stack-data in /Users/johnnguyen/mambaforge/envs/tensorflow/lib/python3.9/site-packages (from ipython>=6.1.0->ipywidgets) (0.6.1)\n",
      "Requirement already satisfied: pexpect>4.3 in /Users/johnnguyen/mambaforge/envs/tensorflow/lib/python3.9/site-packages (from ipython>=6.1.0->ipywidgets) (4.8.0)\n",
      "Requirement already satisfied: pygments>=2.4.0 in /Users/johnnguyen/mambaforge/envs/tensorflow/lib/python3.9/site-packages (from ipython>=6.1.0->ipywidgets) (2.13.0)\n",
      "Requirement already satisfied: jedi>=0.16 in /Users/johnnguyen/mambaforge/envs/tensorflow/lib/python3.9/site-packages (from ipython>=6.1.0->ipywidgets) (0.18.1)\n",
      "Requirement already satisfied: parso<0.9.0,>=0.8.0 in /Users/johnnguyen/mambaforge/envs/tensorflow/lib/python3.9/site-packages (from jedi>=0.16->ipython>=6.1.0->ipywidgets) (0.8.3)\n",
      "Requirement already satisfied: python-dateutil>=2.8.2 in /Users/johnnguyen/mambaforge/envs/tensorflow/lib/python3.9/site-packages (from jupyter-client>=6.1.12->ipykernel>=4.5.1->ipywidgets) (2.8.2)\n",
      "Requirement already satisfied: jupyter-core>=4.9.2 in /Users/johnnguyen/mambaforge/envs/tensorflow/lib/python3.9/site-packages (from jupyter-client>=6.1.12->ipykernel>=4.5.1->ipywidgets) (5.0.0)\n",
      "Requirement already satisfied: entrypoints in /Users/johnnguyen/mambaforge/envs/tensorflow/lib/python3.9/site-packages (from jupyter-client>=6.1.12->ipykernel>=4.5.1->ipywidgets) (0.4)\n",
      "Requirement already satisfied: ptyprocess>=0.5 in /Users/johnnguyen/mambaforge/envs/tensorflow/lib/python3.9/site-packages (from pexpect>4.3->ipython>=6.1.0->ipywidgets) (0.7.0)\n",
      "Requirement already satisfied: wcwidth in /Users/johnnguyen/mambaforge/envs/tensorflow/lib/python3.9/site-packages (from prompt-toolkit<3.1.0,>3.0.1->ipython>=6.1.0->ipywidgets) (0.2.5)\n",
      "Requirement already satisfied: pyparsing!=3.0.5,>=2.0.2 in /Users/johnnguyen/mambaforge/envs/tensorflow/lib/python3.9/site-packages (from packaging->ipykernel>=4.5.1->ipywidgets) (3.0.9)\n",
      "Requirement already satisfied: pure-eval in /Users/johnnguyen/mambaforge/envs/tensorflow/lib/python3.9/site-packages (from stack-data->ipython>=6.1.0->ipywidgets) (0.2.2)\n",
      "Requirement already satisfied: executing>=1.2.0 in /Users/johnnguyen/mambaforge/envs/tensorflow/lib/python3.9/site-packages (from stack-data->ipython>=6.1.0->ipywidgets) (1.2.0)\n",
      "Requirement already satisfied: asttokens>=2.1.0 in /Users/johnnguyen/mambaforge/envs/tensorflow/lib/python3.9/site-packages (from stack-data->ipython>=6.1.0->ipywidgets) (2.1.0)\n",
      "Requirement already satisfied: six in /Users/johnnguyen/mambaforge/envs/tensorflow/lib/python3.9/site-packages (from asttokens>=2.1.0->stack-data->ipython>=6.1.0->ipywidgets) (1.16.0)\n",
      "Requirement already satisfied: platformdirs in /Users/johnnguyen/mambaforge/envs/tensorflow/lib/python3.9/site-packages (from jupyter-core>=4.9.2->jupyter-client>=6.1.12->ipykernel>=4.5.1->ipywidgets) (2.5.2)\n",
      "Enabling notebook extension jupyter-js-widgets/extension...\n",
      "      - Validating: \u001b[32mOK\u001b[0m\n"
     ]
    }
   ],
   "source": [
    "!pip install ipywidgets\n",
    "!jupyter nbextension enable --py widgetsnbextension"
   ]
  },
  {
   "cell_type": "code",
   "execution_count": 7,
   "id": "c1d43342-5868-4590-8868-5fe254831d37",
   "metadata": {},
   "outputs": [],
   "source": [
    "!pip install -q -U pandas\n",
    "!pip install -q -U torch"
   ]
  },
  {
   "cell_type": "code",
   "execution_count": 8,
   "id": "8232375c-87fb-430f-9aa9-2f34f69525f3",
   "metadata": {},
   "outputs": [
    {
     "name": "stdout",
     "output_type": "stream",
     "text": [
      "Python implementation: CPython\n",
      "Python version       : 3.9.13\n",
      "IPython version      : 8.6.0\n",
      "\n",
      "numpy       : 1.23.4\n",
      "pandas      : 1.5.1\n",
      "torch       : 1.13.0\n",
      "transformers: 4.24.0\n",
      "\n"
     ]
    }
   ],
   "source": [
    "%reload_ext watermark\n",
    "%watermark -v -p numpy,pandas,torch,transformers"
   ]
  },
  {
   "cell_type": "code",
   "execution_count": 9,
   "id": "1027e7f7-552b-4b41-bcc3-c180c44c7382",
   "metadata": {},
   "outputs": [
    {
     "name": "stderr",
     "output_type": "stream",
     "text": [
      "[nltk_data] Downloading package punkt to\n",
      "[nltk_data]     /Users/johnnguyen/nltk_data...\n",
      "[nltk_data]   Package punkt is already up-to-date!\n",
      "[nltk_data] Downloading package wordnet to\n",
      "[nltk_data]     /Users/johnnguyen/nltk_data...\n",
      "[nltk_data]   Package wordnet is already up-to-date!\n",
      "[nltk_data] Downloading package stopwords to\n",
      "[nltk_data]     /Users/johnnguyen/nltk_data...\n",
      "[nltk_data]   Package stopwords is already up-to-date!\n"
     ]
    }
   ],
   "source": [
    "import transformers\n",
    "from torch.utils import data\n",
    "import pandas as pd\n",
    "import seaborn as sns\n",
    "import matplotlib.pyplot as plt\n",
    "import numpy as np\n",
    "import torch\n",
    "\n",
    "# data processing\n",
    "import re, string\n",
    "import emoji\n",
    "import nltk\n",
    "\n",
    "# dataset\n",
    "from sklearn.model_selection import train_test_split\n",
    "import datasets\n",
    "from datasets import Dataset , Sequence , Value , Features , ClassLabel , DatasetDict\n",
    "\n",
    "# preprocessing\n",
    "import nltk\n",
    "nltk.download('punkt')\n",
    "nltk.download('wordnet')\n",
    "nltk.download('stopwords')\n",
    "\n",
    "from nltk.stem import WordNetLemmatizer\n",
    "from nltk import word_tokenize\n",
    "from nltk.corpus import stopwords\n",
    "from nltk import word_tokenize\n",
    "\n",
    "import re, string\n",
    "\n",
    "from tqdm import tqdm\n",
    "from collections import defaultdict\n",
    "\n",
    "RANDOM_SEED = 42\n",
    "np.random.seed(RANDOM_SEED)\n",
    "torch.manual_seed(RANDOM_SEED)\n",
    "\n",
    "device = torch.device(\"cuda\" if torch.cuda.is_available() else \"cpu\")"
   ]
  },
  {
   "cell_type": "code",
   "execution_count": 10,
   "id": "20ffee66-9206-4d5f-b9f9-67c36f537265",
   "metadata": {},
   "outputs": [],
   "source": [
    "models = [\"distilbert-base-uncased\", \"bert-base-uncased\", \"bert-base-cased\"]\n",
    "modelName = models[2] "
   ]
  },
  {
   "cell_type": "code",
   "execution_count": 11,
   "id": "5352d667-68a0-4bc1-a23a-e262a2366125",
   "metadata": {},
   "outputs": [
    {
     "name": "stdout",
     "output_type": "stream",
     "text": [
      "(41157, 6)\n",
      "Index(['UserName', 'ScreenName', 'Location', 'TweetAt', 'OriginalTweet',\n",
      "       'Sentiment'],\n",
      "      dtype='object')\n"
     ]
    }
   ],
   "source": [
    "df_train = pd.read_csv(\"Corona_NLP_train.csv\",encoding='latin-1')\n",
    "print(df_train.shape)\n",
    "print(df_train.columns)"
   ]
  },
  {
   "cell_type": "code",
   "execution_count": 12,
   "id": "5b173dc4-353a-4faa-a750-7283246c6200",
   "metadata": {},
   "outputs": [
    {
     "name": "stdout",
     "output_type": "stream",
     "text": [
      "<class 'pandas.core.frame.DataFrame'>\n",
      "RangeIndex: 41157 entries, 0 to 41156\n",
      "Data columns (total 2 columns):\n",
      " #   Column         Non-Null Count  Dtype \n",
      "---  ------         --------------  ----- \n",
      " 0   OriginalTweet  41157 non-null  object\n",
      " 1   Sentiment      41157 non-null  object\n",
      "dtypes: object(2)\n",
      "memory usage: 643.2+ KB\n"
     ]
    }
   ],
   "source": [
    "df_train = df_train[[\"OriginalTweet\", \"Sentiment\"]]\n",
    "df_train.info()"
   ]
  },
  {
   "cell_type": "code",
   "execution_count": 13,
   "id": "cf916ad1-a249-46b5-974f-9a4c2cdf4376",
   "metadata": {},
   "outputs": [
    {
     "data": {
      "text/html": [
       "<div>\n",
       "<style scoped>\n",
       "    .dataframe tbody tr th:only-of-type {\n",
       "        vertical-align: middle;\n",
       "    }\n",
       "\n",
       "    .dataframe tbody tr th {\n",
       "        vertical-align: top;\n",
       "    }\n",
       "\n",
       "    .dataframe thead th {\n",
       "        text-align: right;\n",
       "    }\n",
       "</style>\n",
       "<table border=\"1\" class=\"dataframe\">\n",
       "  <thead>\n",
       "    <tr style=\"text-align: right;\">\n",
       "      <th></th>\n",
       "      <th>Reviews</th>\n",
       "      <th>Sentiment</th>\n",
       "    </tr>\n",
       "  </thead>\n",
       "  <tbody>\n",
       "    <tr>\n",
       "      <th>0</th>\n",
       "      <td>@MeNyrbie @Phil_Gahan @Chrisitv https://t.co/i...</td>\n",
       "      <td>2</td>\n",
       "    </tr>\n",
       "    <tr>\n",
       "      <th>1</th>\n",
       "      <td>advice Talk to your neighbours family to excha...</td>\n",
       "      <td>3</td>\n",
       "    </tr>\n",
       "    <tr>\n",
       "      <th>2</th>\n",
       "      <td>Coronavirus Australia: Woolworths to give elde...</td>\n",
       "      <td>3</td>\n",
       "    </tr>\n",
       "    <tr>\n",
       "      <th>3</th>\n",
       "      <td>My food stock is not the only one which is emp...</td>\n",
       "      <td>3</td>\n",
       "    </tr>\n",
       "    <tr>\n",
       "      <th>4</th>\n",
       "      <td>Me, ready to go at supermarket during the #COV...</td>\n",
       "      <td>0</td>\n",
       "    </tr>\n",
       "  </tbody>\n",
       "</table>\n",
       "</div>"
      ],
      "text/plain": [
       "                                             Reviews  Sentiment\n",
       "0  @MeNyrbie @Phil_Gahan @Chrisitv https://t.co/i...          2\n",
       "1  advice Talk to your neighbours family to excha...          3\n",
       "2  Coronavirus Australia: Woolworths to give elde...          3\n",
       "3  My food stock is not the only one which is emp...          3\n",
       "4  Me, ready to go at supermarket during the #COV...          0"
      ]
     },
     "execution_count": 13,
     "metadata": {},
     "output_type": "execute_result"
    }
   ],
   "source": [
    "df_train.drop_duplicates(subset='OriginalTweet',inplace=True)\n",
    "df_train = df_train.rename({'OriginalTweet': 'Reviews'}, axis='columns')\n",
    "df_train['Sentiment']=df_train['Sentiment'].replace({'Neutral':2, 'Positive':3,'Extremely Positive':4, 'Extremely Negative':0,'Negative':1})\n",
    "df_train['Sentiment']=df_train['Sentiment'].astype(int)\n",
    "\n",
    "df_train = df_train.reset_index(drop=True)\n",
    "df_train.head()"
   ]
  },
  {
   "cell_type": "code",
   "execution_count": 14,
   "id": "c63f13b3-ac16-44dd-96e8-0d412fcb71cf",
   "metadata": {},
   "outputs": [
    {
     "data": {
      "text/plain": [
       "Reviews      0\n",
       "Sentiment    0\n",
       "dtype: int64"
      ]
     },
     "execution_count": 14,
     "metadata": {},
     "output_type": "execute_result"
    }
   ],
   "source": [
    "df_train.isnull().sum()"
   ]
  },
  {
   "cell_type": "code",
   "execution_count": 15,
   "id": "63029fad-8ea2-4c4a-bee8-aab64d6513f6",
   "metadata": {},
   "outputs": [
    {
     "data": {
      "text/plain": [
       "3    11422\n",
       "1     9917\n",
       "2     7713\n",
       "4     6624\n",
       "0     5481\n",
       "Name: Sentiment, dtype: int64"
      ]
     },
     "execution_count": 15,
     "metadata": {},
     "output_type": "execute_result"
    }
   ],
   "source": [
    "df_train[\"Sentiment\"].value_counts()"
   ]
  },
  {
   "cell_type": "code",
   "execution_count": 16,
   "id": "e0cd2a1d-476e-480d-8daf-a5fb2fbb4143",
   "metadata": {},
   "outputs": [
    {
     "name": "stdout",
     "output_type": "stream",
     "text": [
      "1 64\n"
     ]
    }
   ],
   "source": [
    "# word tokenizer\n",
    "df_train['Reviews_len_by_words'] = df_train['Reviews'].apply(lambda t: len(t.split()))\n",
    "min_len_word, max_len_word = df_train['Reviews_len_by_words'].min(), df_train['Reviews_len_by_words'].max()\n",
    "print(min_len_word, max_len_word)"
   ]
  },
  {
   "cell_type": "code",
   "execution_count": 17,
   "id": "e8968a32-f34b-4a87-a973-de61c7f9748f",
   "metadata": {},
   "outputs": [
    {
     "data": {
      "text/plain": [
       "<AxesSubplot: xlabel='Reviews_len_by_words', ylabel='Count'>"
      ]
     },
     "execution_count": 17,
     "metadata": {},
     "output_type": "execute_result"
    },
    {
     "data": {
      "image/png": "[encoded data removed]",
      "text/plain": [
       "<Figure size 640x480 with 1 Axes>"
      ]
     },
     "metadata": {},
     "output_type": "display_data"
    }
   ],
   "source": [
    "sns.histplot(df_train['Reviews_len_by_words'])"
   ]
  },
  {
   "cell_type": "code",
   "execution_count": 18,
   "id": "23da9eb7-2dbb-453d-b2c6-5dcfb3e9eba7",
   "metadata": {},
   "outputs": [
    {
     "data": {
      "text/html": [
       "<div>\n",
       "<style scoped>\n",
       "    .dataframe tbody tr th:only-of-type {\n",
       "        vertical-align: middle;\n",
       "    }\n",
       "\n",
       "    .dataframe tbody tr th {\n",
       "        vertical-align: top;\n",
       "    }\n",
       "\n",
       "    .dataframe thead th {\n",
       "        text-align: right;\n",
       "    }\n",
       "</style>\n",
       "<table border=\"1\" class=\"dataframe\">\n",
       "  <thead>\n",
       "    <tr style=\"text-align: right;\">\n",
       "      <th></th>\n",
       "      <th>Sentiment</th>\n",
       "      <th>Reviews_len_by_words</th>\n",
       "    </tr>\n",
       "  </thead>\n",
       "  <tbody>\n",
       "    <tr>\n",
       "      <th>count</th>\n",
       "      <td>41157.000000</td>\n",
       "      <td>41157.000000</td>\n",
       "    </tr>\n",
       "    <tr>\n",
       "      <th>mean</th>\n",
       "      <td>2.092111</td>\n",
       "      <td>30.500304</td>\n",
       "    </tr>\n",
       "    <tr>\n",
       "      <th>std</th>\n",
       "      <td>1.298655</td>\n",
       "      <td>11.591172</td>\n",
       "    </tr>\n",
       "    <tr>\n",
       "      <th>min</th>\n",
       "      <td>0.000000</td>\n",
       "      <td>1.000000</td>\n",
       "    </tr>\n",
       "    <tr>\n",
       "      <th>25%</th>\n",
       "      <td>1.000000</td>\n",
       "      <td>21.000000</td>\n",
       "    </tr>\n",
       "    <tr>\n",
       "      <th>50%</th>\n",
       "      <td>2.000000</td>\n",
       "      <td>32.000000</td>\n",
       "    </tr>\n",
       "    <tr>\n",
       "      <th>75%</th>\n",
       "      <td>3.000000</td>\n",
       "      <td>40.000000</td>\n",
       "    </tr>\n",
       "    <tr>\n",
       "      <th>max</th>\n",
       "      <td>4.000000</td>\n",
       "      <td>64.000000</td>\n",
       "    </tr>\n",
       "  </tbody>\n",
       "</table>\n",
       "</div>"
      ],
      "text/plain": [
       "          Sentiment  Reviews_len_by_words\n",
       "count  41157.000000          41157.000000\n",
       "mean       2.092111             30.500304\n",
       "std        1.298655             11.591172\n",
       "min        0.000000              1.000000\n",
       "25%        1.000000             21.000000\n",
       "50%        2.000000             32.000000\n",
       "75%        3.000000             40.000000\n",
       "max        4.000000             64.000000"
      ]
     },
     "execution_count": 18,
     "metadata": {},
     "output_type": "execute_result"
    }
   ],
   "source": [
    "df_train.describe()"
   ]
  },
  {
   "cell_type": "code",
   "execution_count": 19,
   "id": "590fb5dd-fd7d-4415-9f94-8e5478f84fee",
   "metadata": {},
   "outputs": [
    {
     "data": {
      "text/plain": [
       "[Text(0, 0, 'Extremely Negative'),\n",
       " Text(1, 0, 'Negative'),\n",
       " Text(2, 0, 'Neutral'),\n",
       " Text(3, 0, 'Positive'),\n",
       " Text(4, 0, 'Extremely Positive')]"
      ]
     },
     "execution_count": 19,
     "metadata": {},
     "output_type": "execute_result"
    },
    {
     "data": {
      "image/png": "[encoded data removed]",
      "text/plain": [
       "<Figure size 640x480 with 1 Axes>"
      ]
     },
     "metadata": {},
     "output_type": "display_data"
    }
   ],
   "source": [
    "class_names = ['Extremely Negative', 'Negative', 'Neutral', 'Positive', 'Extremely Positive']\n",
    "ax = sns.countplot(x='Sentiment', data=df_train)\n",
    "ax.set_xticklabels(class_names)"
   ]
  },
  {
   "cell_type": "code",
   "execution_count": 20,
   "id": "3984ce20-a33d-4144-be86-e4a5649ad6db",
   "metadata": {},
   "outputs": [
    {
     "data": {
      "text/html": [
       "<div>\n",
       "<style scoped>\n",
       "    .dataframe tbody tr th:only-of-type {\n",
       "        vertical-align: middle;\n",
       "    }\n",
       "\n",
       "    .dataframe tbody tr th {\n",
       "        vertical-align: top;\n",
       "    }\n",
       "\n",
       "    .dataframe thead th {\n",
       "        text-align: right;\n",
       "    }\n",
       "</style>\n",
       "<table border=\"1\" class=\"dataframe\">\n",
       "  <thead>\n",
       "    <tr style=\"text-align: right;\">\n",
       "      <th></th>\n",
       "      <th>Reviews</th>\n",
       "      <th>Sentiment</th>\n",
       "    </tr>\n",
       "  </thead>\n",
       "  <tbody>\n",
       "    <tr>\n",
       "      <th>0</th>\n",
       "      <td>TRENDING: New Yorkers encounter empty supermar...</td>\n",
       "      <td>0</td>\n",
       "    </tr>\n",
       "    <tr>\n",
       "      <th>1</th>\n",
       "      <td>When I couldn't find hand sanitizer at Fred Me...</td>\n",
       "      <td>3</td>\n",
       "    </tr>\n",
       "    <tr>\n",
       "      <th>2</th>\n",
       "      <td>Find out how you can protect yourself and love...</td>\n",
       "      <td>4</td>\n",
       "    </tr>\n",
       "    <tr>\n",
       "      <th>3</th>\n",
       "      <td>#Panic buying hits #NewYork City as anxious sh...</td>\n",
       "      <td>1</td>\n",
       "    </tr>\n",
       "    <tr>\n",
       "      <th>4</th>\n",
       "      <td>#toiletpaper #dunnypaper #coronavirus #coronav...</td>\n",
       "      <td>2</td>\n",
       "    </tr>\n",
       "  </tbody>\n",
       "</table>\n",
       "</div>"
      ],
      "text/plain": [
       "                                             Reviews  Sentiment\n",
       "0  TRENDING: New Yorkers encounter empty supermar...          0\n",
       "1  When I couldn't find hand sanitizer at Fred Me...          3\n",
       "2  Find out how you can protect yourself and love...          4\n",
       "3  #Panic buying hits #NewYork City as anxious sh...          1\n",
       "4  #toiletpaper #dunnypaper #coronavirus #coronav...          2"
      ]
     },
     "execution_count": 20,
     "metadata": {},
     "output_type": "execute_result"
    }
   ],
   "source": [
    "df_test = pd.read_csv(\"Corona_NLP_test.csv\",encoding='latin')\n",
    "df_test = df_test.drop(labels=['UserName', 'ScreenName', 'Location', 'TweetAt'], axis=1)\n",
    "df_test.drop_duplicates(subset='OriginalTweet',inplace=True)\n",
    "\n",
    "df_test = df_test.rename({'OriginalTweet': 'Reviews'}, axis=\"columns\")\n",
    "\n",
    "df_test['Sentiment']=df_test['Sentiment'].replace({'Neutral':1, 'Positive':2,'Extremely Positive':2, 'Extremely Negative':0,'Negative':0})\n",
    "df_test['Sentiment']=df_test['Sentiment'].astype(int)\n",
    "df_test = df_test.reset_index(drop=True)\n",
    "\n",
    "df_test.head()"
   ]
  },
  {
   "cell_type": "code",
   "execution_count": 21,
   "id": "a370680c-2c2e-4c59-9042-6bdf5727e809",
   "metadata": {},
   "outputs": [
    {
     "name": "stdout",
     "output_type": "stream",
     "text": [
      "(41157, 3) (3798, 2)\n",
      "(37452, 3) (3705, 3) (3798, 2)\n"
     ]
    }
   ],
   "source": [
    "print(df_train.shape , df_test.shape)\n",
    "df_train, df_val = train_test_split(df_train, test_size=0.09, random_state=RANDOM_SEED, stratify=df_train['Sentiment'])\n",
    "print(df_train.shape , df_val.shape, df_test.shape)"
   ]
  },
  {
   "cell_type": "code",
   "execution_count": 22,
   "id": "93f68f6a-f85f-4293-b4ac-6ac7614521bb",
   "metadata": {},
   "outputs": [],
   "source": [
    "def createDataset(df, textCol, labelCol):\n",
    "  dataset_dict = {\n",
    "    'text' : df[textCol],\n",
    "    'labels' : df[labelCol],\n",
    "  }\n",
    "  sent_tags = ClassLabel(num_classes=3 , names=[ 'Negative','Neutral','Positive'])\n",
    "\n",
    "  return Dataset.from_dict(\n",
    "    mapping = dataset_dict,\n",
    "    features = Features({'text' : Value(dtype='string') , 'labels' :sent_tags})\n",
    "  )"
   ]
  },
  {
   "cell_type": "code",
   "execution_count": 23,
   "id": "ed87032a-8343-478b-b83b-9f498fe15d9d",
   "metadata": {},
   "outputs": [
    {
     "data": {
      "text/plain": [
       "DatasetDict({\n",
       "    train: Dataset({\n",
       "        features: ['text', 'labels'],\n",
       "        num_rows: 37452\n",
       "    })\n",
       "    val: Dataset({\n",
       "        features: ['text', 'labels'],\n",
       "        num_rows: 3705\n",
       "    })\n",
       "    test: Dataset({\n",
       "        features: ['text', 'labels'],\n",
       "        num_rows: 3798\n",
       "    })\n",
       "})"
      ]
     },
     "execution_count": 23,
     "metadata": {},
     "output_type": "execute_result"
    }
   ],
   "source": [
    "dataset_train = createDataset(df_train,\"Reviews\",\"Sentiment\")\n",
    "dataset_val = createDataset(df_val,\"Reviews\",\"Sentiment\")\n",
    "dataset_test = createDataset(df_test,\"Reviews\",\"Sentiment\")\n",
    "\n",
    "dataset_sentAnalysis = DatasetDict()\n",
    "dataset_sentAnalysis[\"train\"] = dataset_train\n",
    "dataset_sentAnalysis[\"val\"] = dataset_val\n",
    "dataset_sentAnalysis[\"test\"] = dataset_test\n",
    "\n",
    "dataset_sentAnalysis"
   ]
  },
  {
   "cell_type": "code",
   "execution_count": 24,
   "id": "289454e7-b90e-4a65-8ce0-013d2cbb66b3",
   "metadata": {},
   "outputs": [],
   "source": [
    "#Data Preprocessing"
   ]
  },
  {
   "cell_type": "code",
   "execution_count": 25,
   "id": "2133bcbe-85c5-4219-b116-bb6eec319f49",
   "metadata": {},
   "outputs": [],
   "source": [
    "def convert_to_lower(text):\n",
    "    return text.lower()\n",
    "\n",
    "def remove_emojis(text):\n",
    "    text = re.sub(r\"(?:\\@|https?\\://)\\S+\", \"\", text) #remove links and mentions\n",
    "    text = re.sub(r\"<.*?>\",\"\",text)\n",
    "\n",
    "    wierd_pattern = re.compile(\"[\"\n",
    "        u\"\\U0001F600-\\U0001F64F\"  # emoticons\n",
    "        u\"\\U0001F300-\\U0001F5FF\"  # symbols & pictographs\n",
    "        u\"\\U0001F680-\\U0001F6FF\"  # transport & map symbols\n",
    "        u\"\\U0001F1E0-\\U0001F1FF\"  # flags (iOS)\n",
    "        u\"\\U00002702-\\U000027B0\"\n",
    "        u\"\\U000024C2-\\U0001F251\"\n",
    "        u\"\\U0001f926-\\U0001f937\"\n",
    "        u'\\U00010000-\\U0010ffff'\n",
    "        u\"\\u200d\"\n",
    "        u\"\\u2640-\\u2642\"\n",
    "        u\"\\u2600-\\u2B55\"\n",
    "        u\"\\u23cf\"\n",
    "        u\"\\u23e9\"\n",
    "        u\"\\u231a\"\n",
    "        u\"\\u3030\"\n",
    "        u\"\\ufe0f\"\n",
    "        u\"\\u2069\"\n",
    "        u\"\\u2066\"\n",
    "        # u\"\\u200c\"\n",
    "        u\"\\u2068\"\n",
    "        u\"\\u2067\"\n",
    "        \"]+\", flags=re.UNICODE)\n",
    "    \n",
    "    return wierd_pattern.sub(r'', text)\n",
    "\n",
    "def remove_numbers(text):\n",
    "    number_pattern = r'\\d+'\n",
    "    without_number = re.sub(pattern=number_pattern, repl=\" \", string=text)\n",
    "    return without_number\n",
    "\n",
    "def lemmatizing(text):\n",
    "    lemmatizer = WordNetLemmatizer()\n",
    "    tokens = word_tokenize(text)\n",
    "    for i in range(len(tokens)):\n",
    "        lemma_word = lemmatizer.lemmatize(tokens[i])\n",
    "        tokens[i] = lemma_word\n",
    "    return \" \".join(tokens)\n",
    "\n",
    "def remove_punctuation(text):\n",
    "    return text.translate(str.maketrans('', '', string.punctuation))\n",
    "\n",
    "def remove_stopwords(text):\n",
    "    removed = []\n",
    "    stop_words = list(stopwords.words(\"english\"))\n",
    "    tokens = word_tokenize(text)\n",
    "    for i in range(len(tokens)):\n",
    "        if tokens[i] not in stop_words:\n",
    "            removed.append(tokens[i])\n",
    "    return \" \".join(removed)\n",
    "\n",
    "def remove_extra_white_spaces(text):\n",
    "    single_char_pattern = r'\\s+[a-zA-Z]\\s+'\n",
    "    without_sc = re.sub(pattern=single_char_pattern, repl=\" \", string=text)\n",
    "    return without_sc\n",
    "\n",
    "def preprocessText(text):\n",
    "  return remove_extra_white_spaces(remove_stopwords(remove_punctuation(remove_numbers(remove_emojis(convert_to_lower(text))))))\n",
    "\n",
    "def preprocessBatch(batch):\n",
    "  new_list = []\n",
    "  for i in batch[\"text\"]:\n",
    "    new_list.append(remove_extra_white_spaces(remove_stopwords(remove_punctuation(remove_numbers(remove_emojis(convert_to_lower(i)))))))\n",
    "  batch[\"text\"] = new_list\n",
    "  return batch"
   ]
  },
  {
   "cell_type": "code",
   "execution_count": 26,
   "id": "547aed7e-f7f1-43ac-9e4b-c0febf939b67",
   "metadata": {},
   "outputs": [
    {
     "name": "stderr",
     "output_type": "stream",
     "text": [
      "Parameter 'function'=<function preprocessBatch at 0x29b2b5040> of the transform datasets.arrow_dataset.Dataset._map_single couldn't be hashed properly, a random hash was used instead. Make sure your transforms and parameters are serializable with pickle or dill for the dataset fingerprinting and caching to work. If you reuse this transform, the caching mechanism will consider it to be different from the previous calls and recompute everything. This warning is only showed once. Subsequent hashing failures won't be showed.\n"
     ]
    },
    {
     "data": {
      "application/vnd.jupyter.widget-view+json": {
       "model_id": "c50b5b63b9cd4b579e2186c74040938f",
       "version_major": 2,
       "version_minor": 0
      },
      "text/plain": [
       "  0%|          | 0/1171 [00:00<?, ?ba/s]"
      ]
     },
     "metadata": {},
     "output_type": "display_data"
    },
    {
     "data": {
      "application/vnd.jupyter.widget-view+json": {
       "model_id": "d2c419917186455492073345af07b2da",
       "version_major": 2,
       "version_minor": 0
      },
      "text/plain": [
       "  0%|          | 0/116 [00:00<?, ?ba/s]"
      ]
     },
     "metadata": {},
     "output_type": "display_data"
    },
    {
     "data": {
      "application/vnd.jupyter.widget-view+json": {
       "model_id": "d9c3f4c875774f36b2e6aaece11289f5",
       "version_major": 2,
       "version_minor": 0
      },
      "text/plain": [
       "  0%|          | 0/119 [00:00<?, ?ba/s]"
      ]
     },
     "metadata": {},
     "output_type": "display_data"
    }
   ],
   "source": [
    "dataset_sentAnalysis_preprocessed = dataset_sentAnalysis.map(preprocessBatch, batched=True, batch_size=32)"
   ]
  },
  {
   "cell_type": "code",
   "execution_count": 27,
   "id": "9d424137-eb45-4725-b5cf-8431daa9639f",
   "metadata": {},
   "outputs": [
    {
     "data": {
      "text/plain": [
       "{'text': \"NYC Administrative Code 20-701(b) makes it illegal to increase prices by 10 percent or more during a 60 day period. If you've witnessed #PriceGouging on items like #HandSanitizer during the #coronavirus, you can report it the Attorney General. Learn how: https://t.co/Qjl8iWnkIk https://t.co/1XoKevtQ5U\",\n",
       " 'labels': 3}"
      ]
     },
     "execution_count": 27,
     "metadata": {},
     "output_type": "execute_result"
    }
   ],
   "source": [
    "dataset_sentAnalysis[\"train\"][10]"
   ]
  },
  {
   "cell_type": "code",
   "execution_count": 28,
   "id": "a4983ff0-4a60-418a-b4be-18b8a957ab52",
   "metadata": {},
   "outputs": [
    {
     "data": {
      "text/plain": [
       "{'text': 'nyc administrative code makes illegal increase prices percent day period youve witnessed pricegouging items like handsanitizer coronavirus report attorney general learn',\n",
       " 'labels': 3}"
      ]
     },
     "execution_count": 28,
     "metadata": {},
     "output_type": "execute_result"
    }
   ],
   "source": [
    "dataset_sentAnalysis_preprocessed[\"train\"][10]"
   ]
  },
  {
   "cell_type": "code",
   "execution_count": 29,
   "id": "b455931e-ba21-4d77-aeef-98fe2e1475e5",
   "metadata": {},
   "outputs": [],
   "source": [
    "#Tokenizer"
   ]
  },
  {
   "cell_type": "code",
   "execution_count": 30,
   "id": "2e81b95a-34f5-426c-a829-95ee14ad290a",
   "metadata": {},
   "outputs": [],
   "source": [
    "from transformers import AutoTokenizer\n",
    "tokenizer = AutoTokenizer.from_pretrained(modelName)"
   ]
  },
  {
   "cell_type": "code",
   "execution_count": 31,
   "id": "94a5359b-0241-4ead-b8d3-178b23943c0a",
   "metadata": {},
   "outputs": [],
   "source": [
    "max_len = 128\n",
    "def tokenize(batch):\n",
    "    return tokenizer(batch[\"text\"], padding=True, truncation=True, max_length=max_len)"
   ]
  },
  {
   "cell_type": "code",
   "execution_count": 32,
   "id": "d45f4f3d-3a46-4d32-a3df-817c99aac9a9",
   "metadata": {},
   "outputs": [
    {
     "name": "stdout",
     "output_type": "stream",
     "text": [
      "19 ['What', 'is', 'going', 'on', '@', 'rest', '##ura', '##nt', '.', ':', '(', 'It', 'makes', 'Me', 'Feel', 'Up', '##set', '.', '[UNK]']\n",
      "19 [1327, 1110, 1280, 1113, 137, 1832, 4084, 2227, 119, 131, 113, 1135, 2228, 2508, 14425, 3725, 9388, 119, 100]\n",
      "{'input_ids': [101, 1327, 1110, 1280, 1113, 137, 1832, 4084, 2227, 119, 131, 113, 1135, 2228, 2508, 14425, 3725, 9388, 119, 100, 102], 'token_type_ids': [0, 0, 0, 0, 0, 0, 0, 0, 0, 0, 0, 0, 0, 0, 0, 0, 0, 0, 0, 0, 0], 'attention_mask': [1, 1, 1, 1, 1, 1, 1, 1, 1, 1, 1, 1, 1, 1, 1, 1, 1, 1, 1, 1, 1]}\n",
      "21\n",
      "['[CLS]', 'What', 'is', 'going', 'on', '@', 'rest', '##ura', '##nt', '.', ':', '(', 'It', 'makes', 'Me', 'Feel', 'Up', '##set', '.', '[UNK]', '[SEP]']\n",
      "[101, 1327, 1110, 1280, 1113, 137, 1832, 4084, 2227, 119, 131, 113, 1135, 2228, 2508, 14425, 3725, 9388, 119, 100, 102]\n"
     ]
    }
   ],
   "source": [
    "sample_text = \"What is  going on @resturant.:( It makes   Me Feel Upset.😞\"\n",
    "tokens = tokenizer.tokenize(sample_text)\n",
    "print(len(tokens), tokens)\n",
    "token_ids = tokenizer.convert_tokens_to_ids(tokens)\n",
    "print(len(token_ids), token_ids)\n",
    "\n",
    "token_dictionary = tokenizer(sample_text)\n",
    "print(token_dictionary)\n",
    "print(len(token_dictionary.input_ids)) # automatically added cls, sep\n",
    "\n",
    "tokens = tokenizer.convert_ids_to_tokens(token_dictionary['input_ids'])\n",
    "print(tokens)\n",
    "\n",
    "token_encode = tokenizer.encode(sample_text) #convert to tokens ids but with cls+sep\n",
    "print(token_encode)"
   ]
  },
  {
   "cell_type": "code",
   "execution_count": 33,
   "id": "c17342a8-99a2-483a-9f64-f0c4305956ac",
   "metadata": {},
   "outputs": [
    {
     "name": "stderr",
     "output_type": "stream",
     "text": [
      "/Users/johnnguyen/mambaforge/envs/tensorflow/lib/python3.9/site-packages/transformers/tokenization_utils_base.py:2304: FutureWarning: The `pad_to_max_length` argument is deprecated and will be removed in a future version, use `padding=True` or `padding='longest'` to pad to the longest sequence in the batch, or use `padding='max_length'` to pad to a max length. In this case, you can give a specific length with `max_length` (e.g. `max_length=45`) or leave max_length to None to pad to the maximal input size of the model (e.g. 512 for Bert).\n",
      "  warnings.warn(\n"
     ]
    },
    {
     "data": {
      "text/plain": [
       "{'input_ids': tensor([[  101,  1327,  1110,  1280,  1113,   137,  1832,  4084,  2227,   119,\n",
       "           131,   113,  1135,  2228,  2508, 14425,  3725,  9388,   119,   100,\n",
       "           102,     0,     0,     0,     0,     0,     0,     0,     0,     0,\n",
       "             0,     0,     0,     0,     0,     0,     0,     0,     0,     0,\n",
       "             0,     0,     0,     0,     0,     0,     0,     0,     0,     0,\n",
       "             0,     0,     0,     0,     0,     0,     0,     0,     0,     0,\n",
       "             0,     0,     0,     0,     0,     0,     0,     0,     0,     0,\n",
       "             0,     0,     0,     0,     0,     0,     0,     0,     0,     0,\n",
       "             0,     0,     0,     0,     0,     0,     0,     0,     0,     0,\n",
       "             0,     0,     0,     0,     0,     0,     0,     0,     0,     0,\n",
       "             0,     0,     0,     0,     0,     0,     0,     0,     0,     0,\n",
       "             0,     0,     0,     0,     0,     0,     0,     0,     0,     0,\n",
       "             0,     0,     0,     0,     0,     0,     0,     0]]), 'attention_mask': tensor([[1, 1, 1, 1, 1, 1, 1, 1, 1, 1, 1, 1, 1, 1, 1, 1, 1, 1, 1, 1, 1, 0, 0, 0,\n",
       "         0, 0, 0, 0, 0, 0, 0, 0, 0, 0, 0, 0, 0, 0, 0, 0, 0, 0, 0, 0, 0, 0, 0, 0,\n",
       "         0, 0, 0, 0, 0, 0, 0, 0, 0, 0, 0, 0, 0, 0, 0, 0, 0, 0, 0, 0, 0, 0, 0, 0,\n",
       "         0, 0, 0, 0, 0, 0, 0, 0, 0, 0, 0, 0, 0, 0, 0, 0, 0, 0, 0, 0, 0, 0, 0, 0,\n",
       "         0, 0, 0, 0, 0, 0, 0, 0, 0, 0, 0, 0, 0, 0, 0, 0, 0, 0, 0, 0, 0, 0, 0, 0,\n",
       "         0, 0, 0, 0, 0, 0, 0, 0]])}"
      ]
     },
     "execution_count": 33,
     "metadata": {},
     "output_type": "execute_result"
    }
   ],
   "source": [
    "encoding = tokenizer.encode_plus(\n",
    "    sample_text,\n",
    "    max_length=max_len,\n",
    "    add_special_tokens=True,\n",
    "    pad_to_max_length=True,\n",
    "    return_attention_mask=True,\n",
    "    return_token_type_ids=False,\n",
    "    return_tensors=\"pt\",truncation=True\n",
    ")\n",
    "encoding"
   ]
  },
  {
   "cell_type": "code",
   "execution_count": 34,
   "id": "ae2864a8-e382-443b-b228-138097673ce9",
   "metadata": {},
   "outputs": [
    {
     "data": {
      "application/vnd.jupyter.widget-view+json": {
       "model_id": "9c2d95b3f85445d29e258d1c62afce1c",
       "version_major": 2,
       "version_minor": 0
      },
      "text/plain": [
       "  0%|          | 0/1171 [00:00<?, ?ba/s]"
      ]
     },
     "metadata": {},
     "output_type": "display_data"
    },
    {
     "data": {
      "application/vnd.jupyter.widget-view+json": {
       "model_id": "1cc1f23eb2fc4e14baa745136880acfc",
       "version_major": 2,
       "version_minor": 0
      },
      "text/plain": [
       "  0%|          | 0/116 [00:00<?, ?ba/s]"
      ]
     },
     "metadata": {},
     "output_type": "display_data"
    },
    {
     "data": {
      "application/vnd.jupyter.widget-view+json": {
       "model_id": "a413cb56168a4fa09b48271b6fbff8aa",
       "version_major": 2,
       "version_minor": 0
      },
      "text/plain": [
       "  0%|          | 0/119 [00:00<?, ?ba/s]"
      ]
     },
     "metadata": {},
     "output_type": "display_data"
    }
   ],
   "source": [
    "dataset_sentAnalysis_encoded = dataset_sentAnalysis_preprocessed.map(tokenize, batched=True, batch_size=32)"
   ]
  },
  {
   "cell_type": "code",
   "execution_count": 35,
   "id": "729e55bb-b361-45d5-94be-56a51b3de037",
   "metadata": {},
   "outputs": [
    {
     "data": {
      "text/plain": [
       "DatasetDict({\n",
       "    train: Dataset({\n",
       "        features: ['text', 'labels', 'input_ids', 'token_type_ids', 'attention_mask'],\n",
       "        num_rows: 37452\n",
       "    })\n",
       "    val: Dataset({\n",
       "        features: ['text', 'labels', 'input_ids', 'token_type_ids', 'attention_mask'],\n",
       "        num_rows: 3705\n",
       "    })\n",
       "    test: Dataset({\n",
       "        features: ['text', 'labels', 'input_ids', 'token_type_ids', 'attention_mask'],\n",
       "        num_rows: 3798\n",
       "    })\n",
       "})"
      ]
     },
     "execution_count": 35,
     "metadata": {},
     "output_type": "execute_result"
    }
   ],
   "source": [
    "dataset_sentAnalysis_encoded"
   ]
  },
  {
   "cell_type": "code",
   "execution_count": 36,
   "id": "010bb5de-428c-4007-97a9-1341af286d15",
   "metadata": {},
   "outputs": [],
   "source": [
    "# Add Classification head manually for Model"
   ]
  },
  {
   "cell_type": "code",
   "execution_count": 37,
   "id": "907118b1-e634-4cb3-8856-61652989f585",
   "metadata": {},
   "outputs": [],
   "source": [
    "from transformers import BertConfig\n",
    "from transformers.models.bert.modeling_bert import BertModel, BertPreTrainedModel\n",
    "from transformers.modeling_outputs import SequenceClassifierOutput\n",
    "import torch.nn as nn\n",
    "\n",
    "class BertForClassification(BertPreTrainedModel):\n",
    "\n",
    "    def __init__(self, config):\n",
    "        super().__init__(config)\n",
    "        self.num_labels = config.num_labels\n",
    "        self.config = config\n",
    "\n",
    "        # Load model body > return all og the HS\n",
    "        self.bert = BertModel(config)\n",
    "        # Set up token classification head\n",
    "        self.dropout = nn.Dropout(config.hidden_dropout_prob)\n",
    "        self.classifier = nn.Linear(config.hidden_size, config.num_labels)\n",
    "\n",
    "        # Initialize weights and apply final processing\n",
    "        self.post_init()\n",
    "\n",
    "\n",
    "    def forward(self, input_ids=None, attention_mask=None, token_type_ids=None, \n",
    "                labels=None, **kwargs):\n",
    "        # Use model body to get encoder representations\n",
    "        outputs = self.bert(input_ids, attention_mask=attention_mask,\n",
    "                               token_type_ids=token_type_ids, **kwargs)\n",
    "\n",
    "        # Apply classifier to encoder representation > [cls]\n",
    "        sequence_output = self.dropout(outputs[1])\n",
    "        logits = self.classifier(sequence_output)\n",
    "\n",
    "        # Calculate losses\n",
    "        loss = None\n",
    "        if labels is not None:\n",
    "            loss_fct = nn.CrossEntropyLoss()\n",
    "            loss = loss_fct(logits.view(-1, self.num_labels), labels.view(-1))\n",
    "        # Return model output object\n",
    "        return SequenceClassifierOutput(\n",
    "            loss=loss,\n",
    "            logits=logits,\n",
    "            hidden_states=outputs.hidden_states,\n",
    "            attentions=outputs.attentions,\n",
    "        )"
   ]
  },
  {
   "cell_type": "code",
   "execution_count": 38,
   "id": "936c274c-37b6-4137-91dc-1f357360b7d2",
   "metadata": {},
   "outputs": [],
   "source": [
    "from transformers import AutoConfig\n",
    "\n",
    "id2label = {\n",
    "    0: 'Extremely Negative',\n",
    "    1: 'Negative',\n",
    "    2: 'Neutral',\n",
    "    3: 'Positive',\n",
    "    4: 'Extremely Positive'\n",
    "}\n",
    "\n",
    "label2id = { v:k for (k,v) in id2label.items()}\n",
    "\n",
    "bert_config = AutoConfig.from_pretrained(modelName, \n",
    "                                         num_labels=5,\n",
    "                                         id2label=id2label, label2id=label2id)"
   ]
  },
  {
   "cell_type": "code",
   "execution_count": 39,
   "id": "02747798-e72a-4d98-8232-c93e4de3a594",
   "metadata": {},
   "outputs": [
    {
     "name": "stderr",
     "output_type": "stream",
     "text": [
      "Some weights of the model checkpoint at bert-base-cased were not used when initializing BertForClassification: ['cls.predictions.transform.dense.bias', 'cls.predictions.transform.LayerNorm.weight', 'cls.predictions.bias', 'cls.predictions.transform.LayerNorm.bias', 'cls.predictions.decoder.weight', 'cls.predictions.transform.dense.weight', 'cls.seq_relationship.bias', 'cls.seq_relationship.weight']\n",
      "- This IS expected if you are initializing BertForClassification from the checkpoint of a model trained on another task or with another architecture (e.g. initializing a BertForSequenceClassification model from a BertForPreTraining model).\n",
      "- This IS NOT expected if you are initializing BertForClassification from the checkpoint of a model that you expect to be exactly identical (initializing a BertForSequenceClassification model from a BertForSequenceClassification model).\n",
      "Some weights of BertForClassification were not initialized from the model checkpoint at bert-base-cased and are newly initialized: ['classifier.bias', 'classifier.weight']\n",
      "You should probably TRAIN this model on a down-stream task to be able to use it for predictions and inference.\n"
     ]
    }
   ],
   "source": [
    "bert_model = (BertForClassification\n",
    "              .from_pretrained(modelName, config=bert_config)\n",
    "              .to(device))"
   ]
  },
  {
   "cell_type": "code",
   "execution_count": 40,
   "id": "dde0372e-17a8-499f-b176-e2fbaf1c5d07",
   "metadata": {},
   "outputs": [],
   "source": [
    "#Training Arguments"
   ]
  },
  {
   "cell_type": "code",
   "execution_count": 41,
   "id": "3be177b8-c936-44ae-8fd1-a7c6fe121ae4",
   "metadata": {},
   "outputs": [],
   "source": [
    "from transformers import Trainer, TrainingArguments\n",
    "\n",
    "batch_size = 16\n",
    "logging_steps = len(dataset_sentAnalysis_encoded[\"train\"]) // batch_size\n",
    "model_name = f\"{modelName}-finetuned-sentimentAnalysis-bert\"\n",
    "training_args = TrainingArguments(output_dir=model_name,\n",
    "                                  num_train_epochs=4,\n",
    "                                  per_device_train_batch_size=batch_size,\n",
    "                                  per_device_eval_batch_size=batch_size,\n",
    "                                  weight_decay=0.01,\n",
    "                                  evaluation_strategy=\"epoch\", \n",
    "                                  save_steps=1e6,\n",
    "                                  disable_tqdm=False,\n",
    "                                  logging_steps=logging_steps,\n",
    "                                  push_to_hub=False, \n",
    "                                  log_level=\"error\",\n",
    "                                  run_name=\"bert-sent-analysis\")"
   ]
  },
  {
   "cell_type": "code",
   "execution_count": 42,
   "id": "6599f645-3f92-4f5b-9923-ad48966ac5bb",
   "metadata": {},
   "outputs": [],
   "source": [
    "from sklearn.metrics import accuracy_score, f1_score\n",
    "\n",
    "def compute_metrics(pred):\n",
    "    labels = pred.label_ids\n",
    "    preds = pred.predictions.argmax(-1)\n",
    "    f1 = f1_score(labels, preds, average=\"weighted\")\n",
    "    acc = accuracy_score(labels, preds)\n",
    "    return {\"accuracy\": acc, \"f1\": f1}"
   ]
  },
  {
   "cell_type": "code",
   "execution_count": 43,
   "id": "131ec233-e537-4342-985b-f3f21ef8cc8d",
   "metadata": {},
   "outputs": [
    {
     "data": {
      "text/html": [
       "\n",
       "    <div>\n",
       "      \n",
       "      <progress value='11705' max='11705' style='width:300px; height:20px; vertical-align: middle;'></progress>\n",
       "      [11705/11705 8:42:28, Epoch 5/5]\n",
       "    </div>\n",
       "    <table border=\"1\" class=\"dataframe\">\n",
       "  <thead>\n",
       " <tr style=\"text-align: left;\">\n",
       "      <th>Epoch</th>\n",
       "      <th>Training Loss</th>\n",
       "      <th>Validation Loss</th>\n",
       "      <th>Accuracy</th>\n",
       "      <th>F1</th>\n",
       "    </tr>\n",
       "  </thead>\n",
       "  <tbody>\n",
       "    <tr>\n",
       "      <td>1</td>\n",
       "      <td>0.878200</td>\n",
       "      <td>0.707688</td>\n",
       "      <td>0.739811</td>\n",
       "      <td>0.739271</td>\n",
       "    </tr>\n",
       "    <tr>\n",
       "      <td>2</td>\n",
       "      <td>0.587700</td>\n",
       "      <td>0.700423</td>\n",
       "      <td>0.753846</td>\n",
       "      <td>0.753272</td>\n",
       "    </tr>\n",
       "    <tr>\n",
       "      <td>3</td>\n",
       "      <td>0.444200</td>\n",
       "      <td>0.652604</td>\n",
       "      <td>0.787854</td>\n",
       "      <td>0.788595</td>\n",
       "    </tr>\n",
       "    <tr>\n",
       "      <td>4</td>\n",
       "      <td>0.346500</td>\n",
       "      <td>0.715692</td>\n",
       "      <td>0.781916</td>\n",
       "      <td>0.781934</td>\n",
       "    </tr>\n",
       "    <tr>\n",
       "      <td>5</td>\n",
       "      <td>0.298500</td>\n",
       "      <td>0.715692</td>\n",
       "      <td>0.781916</td>\n",
       "      <td>0.781934</td>\n",
       "    </tr>\n",
       "  </tbody>\n",
       "</table><p>"
      ],
      "text/plain": [
       "<IPython.core.display.HTML object>"
      ]
     },
     "metadata": {},
     "output_type": "display_data"
    },
    {
     "data": {
      "text/plain": [
       "TrainOutput(global_step=11705, training_loss=0.5109629557816099, metrics={'train_runtime': 31350.2147, 'train_samples_per_second': 5.973, 'train_steps_per_second': 0.373, 'total_flos': 7100569916458632.0, 'train_loss': 0.5109629557816099, 'epoch': 5.0})"
      ]
     },
     "execution_count": 43,
     "metadata": {},
     "output_type": "execute_result"
    }
   ],
   "source": [
    "from torch.optim import AdamW\n",
    "from transformers import get_scheduler\n",
    "\n",
    "optimizer = AdamW(bert_model.parameters(), lr=2e-5)\n",
    "\n",
    "num_epochs = 4\n",
    "num_training_steps = num_epochs * logging_steps\n",
    "lr_scheduler = get_scheduler(\n",
    "    name=\"linear\", optimizer=optimizer, num_warmup_steps=0, num_training_steps=num_training_steps\n",
    ")\n",
    "\n",
    "trainer_preprocessed_lr = Trainer(model=bert_model, args=training_args,\n",
    "                                  compute_metrics=compute_metrics,\n",
    "                                  train_dataset=dataset_sentAnalysis_encoded[\"train\"],\n",
    "                                  eval_dataset=dataset_sentAnalysis_encoded[\"val\"],\n",
    "                                  tokenizer=tokenizer,\n",
    "                                  optimizers=(optimizer,lr_scheduler))\n",
    "\n",
    "trainer_preprocessed_lr.train()"
   ]
  },
  {
   "cell_type": "code",
   "execution_count": 44,
   "id": "22ffecd1-0623-431b-954f-c2a5f8981cb4",
   "metadata": {},
   "outputs": [],
   "source": [
    "#Evaluation"
   ]
  },
  {
   "cell_type": "code",
   "execution_count": 1,
   "id": "750134e1-bb37-4085-b892-4c26d2c4ae2e",
   "metadata": {},
   "outputs": [
    {
     "ename": "NameError",
     "evalue": "name 'bert_model' is not defined",
     "output_type": "error",
     "traceback": [
      "\u001b[0;31m---------------------------------------------------------------------------\u001b[0m",
      "\u001b[0;31mNameError\u001b[0m                                 Traceback (most recent call last)",
      "Cell \u001b[0;32mIn [1], line 1\u001b[0m\n\u001b[0;32m----> 1\u001b[0m model \u001b[38;5;241m=\u001b[39m \u001b[43mbert_model\u001b[49m\n\u001b[1;32m      2\u001b[0m model\u001b[38;5;241m.\u001b[39meval()\n\u001b[1;32m      3\u001b[0m preds_output \u001b[38;5;241m=\u001b[39m trainer_preprocessed_lr\u001b[38;5;241m.\u001b[39mpredict(dataset_sentAnalysis_encoded[\u001b[38;5;124m\"\u001b[39m\u001b[38;5;124mtest\u001b[39m\u001b[38;5;124m\"\u001b[39m])\n",
      "\u001b[0;31mNameError\u001b[0m: name 'bert_model' is not defined"
     ]
    }
   ],
   "source": [
    "model = bert_model\n",
    "model.eval()\n",
    "preds_output = trainer_preprocessed_lr.predict(dataset_sentAnalysis_encoded[\"test\"])\n",
    "pd.DataFrame(list(preds_output.metrics.items())).T"
   ]
  },
  {
   "cell_type": "code",
   "execution_count": 2,
   "id": "bc5983e1-8846-4e5a-bd0a-c2a148cb7660",
   "metadata": {},
   "outputs": [
    {
     "ename": "NameError",
     "evalue": "name 'torch' is not defined",
     "output_type": "error",
     "traceback": [
      "\u001b[0;31m---------------------------------------------------------------------------\u001b[0m",
      "\u001b[0;31mNameError\u001b[0m                                 Traceback (most recent call last)",
      "Cell \u001b[0;32mIn [2], line 2\u001b[0m\n\u001b[1;32m      1\u001b[0m PATH \u001b[38;5;241m=\u001b[39m \u001b[38;5;124m\"\u001b[39m\u001b[38;5;124m./bert-classification-classification-head\u001b[39m\u001b[38;5;124m\"\u001b[39m\n\u001b[0;32m----> 2\u001b[0m \u001b[43mtorch\u001b[49m\u001b[38;5;241m.\u001b[39msave(bert_model\u001b[38;5;241m.\u001b[39mstate_dict(), PATH)\n",
      "\u001b[0;31mNameError\u001b[0m: name 'torch' is not defined"
     ]
    }
   ],
   "source": [
    "PATH = \"./bert-classification-classification-head\"\n",
    "torch.save(bert_model.state_dict(), PATH)"
   ]
  },
  {
   "cell_type": "code",
   "execution_count": 47,
   "id": "78b267a8-fc28-4d1c-ab25-fbc385a9f0aa",
   "metadata": {},
   "outputs": [],
   "source": [
    "import matplotlib.pyplot as plt\n",
    "from sklearn.metrics import ConfusionMatrixDisplay, confusion_matrix\n",
    "\n",
    "def plot_confusion_matrix(y_preds, y_true, labels):\n",
    "    cm = confusion_matrix(y_true, y_preds, normalize=\"true\")\n",
    "    fig, ax = plt.subplots(figsize=(6, 6))\n",
    "    disp = ConfusionMatrixDisplay(confusion_matrix=cm, display_labels=labels)\n",
    "    disp.plot(cmap=\"Blues\", values_format=\".2f\", ax=ax, colorbar=False)\n",
    "    plt.title(\"Normalized confusion matrix\")\n",
    "    plt.show()"
   ]
  },
  {
   "cell_type": "code",
   "execution_count": 48,
   "id": "4957b03a-3232-4fa5-8c86-c4eae41f7d61",
   "metadata": {},
   "outputs": [
    {
     "data": {
      "image/png": "[encoded data removed]",
      "text/plain": [
       "<Figure size 600x600 with 1 Axes>"
      ]
     },
     "metadata": {},
     "output_type": "display_data"
    }
   ],
   "source": [
    "y_preds = np.argmax(preds_output.predictions, axis=1)\n",
    "y_test = np.array(dataset_sentAnalysis_encoded[\"test\"][\"labels\"])\n",
    "labels = dataset_sentAnalysis_encoded[\"train\"].features[\"labels\"].names\n",
    "plot_confusion_matrix(y_preds, y_test, labels)"
   ]
  },
  {
   "cell_type": "code",
   "execution_count": 49,
   "id": "820ec5dd-c3b9-4e34-9f1b-66ecc22c5605",
   "metadata": {},
   "outputs": [
    {
     "name": "stdout",
     "output_type": "stream",
     "text": [
      "                    precision    recall  f1-score   support\n",
      "\n",
      "Extremely Negative       0.73      0.80      0.77       592\n",
      "          Negative       0.71      0.69      0.70      1041\n",
      "           Neutral       0.86      0.79      0.82       619\n",
      "          Positive       0.72      0.74      0.73       947\n",
      "Extremely Positive       0.81      0.79      0.80       599\n",
      "\n",
      "          accuracy                           0.75      3798\n",
      "         macro avg       0.76      0.76      0.76      3798\n",
      "      weighted avg       0.75      0.75      0.75      3798\n",
      "\n"
     ]
    }
   ],
   "source": [
    "from sklearn.metrics import confusion_matrix, classification_report\n",
    "\n",
    "class_names = ['Extremely Negative', 'Negative','Neutral', 'Positive', 'Extremely Positive']\n",
    "print(classification_report(y_test, y_preds, target_names=class_names))"
   ]
  },
  {
   "cell_type": "code",
   "execution_count": 50,
   "id": "307fab05-b1a3-4955-a915-e77d712857e3",
   "metadata": {},
   "outputs": [],
   "source": [
    "import numpy as np\n",
    "import torch.nn.functional as F\n",
    "\n",
    "def predict_text(model,text):\n",
    "  inputs = tokenizer(text, return_tensors=\"pt\", padding=True, truncation=True, max_length=max_len)\n",
    "  inputs = {k:v.to(device) for k,v in inputs.items()}\n",
    "  with torch.no_grad():\n",
    "    outputs = model(**inputs)\n",
    "  out = F.softmax(outputs.logits,dim=1)\n",
    "  y_out = np.argmax(out.cpu(),axis=1)\n",
    "  return out, y_out"
   ]
  },
  {
   "cell_type": "code",
   "execution_count": 3,
   "id": "60a256d6-4ebd-4cc4-9d89-ec413dc03966",
   "metadata": {},
   "outputs": [
    {
     "ename": "NameError",
     "evalue": "name 'predict_text' is not defined",
     "output_type": "error",
     "traceback": [
      "\u001b[0;31m---------------------------------------------------------------------------\u001b[0m",
      "\u001b[0;31mNameError\u001b[0m                                 Traceback (most recent call last)",
      "Cell \u001b[0;32mIn [3], line 2\u001b[0m\n\u001b[1;32m      1\u001b[0m sample_text \u001b[38;5;241m=\u001b[39m \u001b[38;5;124m\"\u001b[39m\u001b[38;5;124mit\u001b[39m\u001b[38;5;124m'\u001b[39m\u001b[38;5;124ms alright\u001b[39m\u001b[38;5;124m\"\u001b[39m\n\u001b[0;32m----> 2\u001b[0m out, y_out \u001b[38;5;241m=\u001b[39m \u001b[43mpredict_text\u001b[49m(model,sample_text)\n\u001b[1;32m      3\u001b[0m out, id2label[y_out\u001b[38;5;241m.\u001b[39mitem()]\n",
      "\u001b[0;31mNameError\u001b[0m: name 'predict_text' is not defined"
     ]
    }
   ],
   "source": [
    "sample_text = \"it's alright\"\n",
    "out, y_out = predict_text(model,sample_text)\n",
    "out, id2label[y_out.item()]"
   ]
  },
  {
   "cell_type": "code",
   "execution_count": 52,
   "id": "c9b75a07-db16-4bf2-a7f7-1e10f3a6e5cd",
   "metadata": {},
   "outputs": [
    {
     "data": {
      "text/html": [
       "<div>\n",
       "<style scoped>\n",
       "    .dataframe tbody tr th:only-of-type {\n",
       "        vertical-align: middle;\n",
       "    }\n",
       "\n",
       "    .dataframe tbody tr th {\n",
       "        vertical-align: top;\n",
       "    }\n",
       "\n",
       "    .dataframe thead th {\n",
       "        text-align: right;\n",
       "    }\n",
       "</style>\n",
       "<table border=\"1\" class=\"dataframe\">\n",
       "  <thead>\n",
       "    <tr style=\"text-align: right;\">\n",
       "      <th></th>\n",
       "      <th>0</th>\n",
       "    </tr>\n",
       "  </thead>\n",
       "  <tbody>\n",
       "    <tr>\n",
       "      <th>Text</th>\n",
       "      <td>it's social</td>\n",
       "    </tr>\n",
       "    <tr>\n",
       "      <th>Sentiment</th>\n",
       "      <td>Neutral</td>\n",
       "    </tr>\n",
       "  </tbody>\n",
       "</table>\n",
       "</div>"
      ],
      "text/plain": [
       "                     0\n",
       "Text       it's social\n",
       "Sentiment      Neutral"
      ]
     },
     "execution_count": 52,
     "metadata": {},
     "output_type": "execute_result"
    }
   ],
   "source": [
    "pd.set_option('display.max_colwidth', None)\n",
    "pd.DataFrame({\n",
    "    \"Text\": sample_text,\n",
    "    \"Sentiment\": class_names[y_out.item()]\n",
    "},index=[0]).T\n"
   ]
  },
  {
   "cell_type": "code",
   "execution_count": null,
   "id": "a3095a0a-37ae-4b57-956b-213d421857b5",
   "metadata": {},
   "outputs": [],
   "source": []
  }
 ],
 "metadata": {
  "kernelspec": {
   "display_name": "Python 3 (ipykernel)",
   "language": "python",
   "name": "python3"
  },
  "language_info": {
   "codemirror_mode": {
    "name": "ipython",
    "version": 3
   },
   "file_extension": ".py",
   "mimetype": "text/x-python",
   "name": "python",
   "nbconvert_exporter": "python",
   "pygments_lexer": "ipython3",
   "version": "3.9.13"
  }
 },
 "nbformat": 4,
 "nbformat_minor": 5
}
